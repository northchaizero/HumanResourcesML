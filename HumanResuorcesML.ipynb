{
  "cells": [
    {
      "cell_type": "markdown",
      "metadata": {
        "id": "I2SXpu3fMkp9",
        "pycharm": {
          "name": "#%% md\n"
        }
      },
      "source": [
        "# Оптимизация управления персоналом для HR сервиса.\n"
      ]
    },
    {
      "cell_type": "markdown",
      "source": [
        "## Пакеты и импорты"
      ],
      "metadata": {
        "id": "kpvJTEh6_bEd"
      }
    },
    {
      "cell_type": "code",
      "execution_count": null,
      "metadata": {
        "id": "V66ZM9oqMCcE",
        "pycharm": {
          "name": "#%%\n"
        }
      },
      "outputs": [],
      "source": [
        "!pip install phik -q\n",
        "!pip install scikit-learn==0.24.1 -q"
      ]
    },
    {
      "cell_type": "code",
      "execution_count": null,
      "metadata": {
        "id": "CgsT5LOxKB5A",
        "pycharm": {
          "name": "#%%\n"
        }
      },
      "outputs": [],
      "source": [
        "# Импорты\n",
        "import pandas as pd\n",
        "import matplotlib.pyplot as plt\n",
        "import seaborn as sns\n",
        "import numpy as np\n",
        "import sklearn\n",
        "import shap\n",
        "\n",
        "from sklearn import tree\n",
        "from sklearn.pipeline import Pipeline\n",
        "from sklearn.compose import ColumnTransformer\n",
        "from sklearn.preprocessing import (OneHotEncoder,\n",
        "                                   OrdinalEncoder,\n",
        "                                   StandardScaler,\n",
        "                                   RobustScaler,\n",
        "                                   MinMaxScaler,\n",
        "                                   OrdinalEncoder)\n",
        "from sklearn.impute import SimpleImputer\n",
        "from sklearn.neighbors import KNeighborsClassifier\n",
        "from sklearn.svm import SVC, SVR\n",
        "from sklearn.metrics import roc_auc_score, r2_score, make_scorer\n",
        "from sklearn.linear_model import LogisticRegression, LinearRegression\n",
        "from sklearn.tree import DecisionTreeClassifier, DecisionTreeRegressor\n",
        "from sklearn.model_selection import (RandomizedSearchCV,\n",
        "                                     train_test_split)\n",
        "\n",
        "from phik.report import plot_correlation_matrix\n",
        "from phik import phik_matrix\n",
        "from sklearn.ensemble import GradientBoostingRegressor"
      ]
    },
    {
      "cell_type": "code",
      "execution_count": null,
      "metadata": {
        "id": "pfYxLk64eKs_",
        "pycharm": {
          "name": "#%%\n"
        }
      },
      "outputs": [],
      "source": [
        "RANDOM_STATE = 52"
      ]
    },
    {
      "cell_type": "markdown",
      "metadata": {
        "id": "ucw5tsLHEyYL",
        "pycharm": {
          "name": "#%% md\n"
        }
      },
      "source": [
        "# Оценка индекса удволетворённости сотрудников\n",
        "\n",
        "**Создание модели регрессии, предсказывающей значение целевого признака 'job_satisfaction_rate'**\n",
        "\n",
        "`Целевая метрика - SMAPE <= 15`"
      ]
    },
    {
      "cell_type": "markdown",
      "metadata": {
        "id": "sgepLFS_NV00",
        "pycharm": {
          "name": "#%% md\n"
        }
      },
      "source": [
        "## Загрузка и первичный анализ данных"
      ]
    },
    {
      "cell_type": "code",
      "execution_count": null,
      "metadata": {
        "id": "4IrbrCJiNMpO",
        "pycharm": {
          "name": "#%%\n"
        }
      },
      "outputs": [],
      "source": [
        "df_train = pd.read_csv('https://code.s3.yandex.net/datasets/train_job_satisfaction_rate.csv')"
      ]
    },
    {
      "cell_type": "code",
      "execution_count": null,
      "metadata": {
        "id": "6yPTfOAuFYSp",
        "pycharm": {
          "name": "#%%\n"
        }
      },
      "outputs": [],
      "source": [
        "df_test1 =  pd.read_csv('https://code.s3.yandex.net/datasets/test_features.csv')\n",
        "df_test2 =  pd.read_csv('https://code.s3.yandex.net/datasets/test_target_job_satisfaction_rate.csv')"
      ]
    },
    {
      "cell_type": "code",
      "execution_count": null,
      "metadata": {
        "colab": {
          "base_uri": "https://localhost:8080/",
          "height": 206
        },
        "id": "-yTyauyFFzaq",
        "outputId": "e6c5e2c3-d923-47b6-9b34-08ec081aac37",
        "pycharm": {
          "name": "#%%\n"
        }
      },
      "outputs": [
        {
          "data": {
            "text/html": [
              "<div>\n",
              "<style scoped>\n",
              "    .dataframe tbody tr th:only-of-type {\n",
              "        vertical-align: middle;\n",
              "    }\n",
              "\n",
              "    .dataframe tbody tr th {\n",
              "        vertical-align: top;\n",
              "    }\n",
              "\n",
              "    .dataframe thead th {\n",
              "        text-align: right;\n",
              "    }\n",
              "</style>\n",
              "<table border=\"1\" class=\"dataframe\">\n",
              "  <thead>\n",
              "    <tr style=\"text-align: right;\">\n",
              "      <th></th>\n",
              "      <th>id</th>\n",
              "      <th>dept</th>\n",
              "      <th>level</th>\n",
              "      <th>workload</th>\n",
              "      <th>employment_years</th>\n",
              "      <th>last_year_promo</th>\n",
              "      <th>last_year_violations</th>\n",
              "      <th>supervisor_evaluation</th>\n",
              "      <th>salary</th>\n",
              "    </tr>\n",
              "  </thead>\n",
              "  <tbody>\n",
              "    <tr>\n",
              "      <th>0</th>\n",
              "      <td>485046</td>\n",
              "      <td>marketing</td>\n",
              "      <td>junior</td>\n",
              "      <td>medium</td>\n",
              "      <td>2</td>\n",
              "      <td>no</td>\n",
              "      <td>no</td>\n",
              "      <td>5</td>\n",
              "      <td>28800</td>\n",
              "    </tr>\n",
              "    <tr>\n",
              "      <th>1</th>\n",
              "      <td>686555</td>\n",
              "      <td>hr</td>\n",
              "      <td>junior</td>\n",
              "      <td>medium</td>\n",
              "      <td>1</td>\n",
              "      <td>no</td>\n",
              "      <td>no</td>\n",
              "      <td>4</td>\n",
              "      <td>30000</td>\n",
              "    </tr>\n",
              "    <tr>\n",
              "      <th>2</th>\n",
              "      <td>467458</td>\n",
              "      <td>sales</td>\n",
              "      <td>middle</td>\n",
              "      <td>low</td>\n",
              "      <td>5</td>\n",
              "      <td>no</td>\n",
              "      <td>no</td>\n",
              "      <td>4</td>\n",
              "      <td>19200</td>\n",
              "    </tr>\n",
              "    <tr>\n",
              "      <th>3</th>\n",
              "      <td>418655</td>\n",
              "      <td>sales</td>\n",
              "      <td>middle</td>\n",
              "      <td>low</td>\n",
              "      <td>6</td>\n",
              "      <td>no</td>\n",
              "      <td>no</td>\n",
              "      <td>4</td>\n",
              "      <td>19200</td>\n",
              "    </tr>\n",
              "    <tr>\n",
              "      <th>4</th>\n",
              "      <td>789145</td>\n",
              "      <td>hr</td>\n",
              "      <td>middle</td>\n",
              "      <td>medium</td>\n",
              "      <td>5</td>\n",
              "      <td>no</td>\n",
              "      <td>no</td>\n",
              "      <td>5</td>\n",
              "      <td>40800</td>\n",
              "    </tr>\n",
              "  </tbody>\n",
              "</table>\n",
              "</div>"
            ],
            "text/plain": [
              "       id       dept   level workload  employment_years last_year_promo  \\\n",
              "0  485046  marketing  junior   medium                 2              no   \n",
              "1  686555         hr  junior   medium                 1              no   \n",
              "2  467458      sales  middle      low                 5              no   \n",
              "3  418655      sales  middle      low                 6              no   \n",
              "4  789145         hr  middle   medium                 5              no   \n",
              "\n",
              "  last_year_violations  supervisor_evaluation  salary  \n",
              "0                   no                      5   28800  \n",
              "1                   no                      4   30000  \n",
              "2                   no                      4   19200  \n",
              "3                   no                      4   19200  \n",
              "4                   no                      5   40800  "
            ]
          },
          "execution_count": 6,
          "metadata": {},
          "output_type": "execute_result"
        }
      ],
      "source": [
        "df_test1.head()"
      ]
    },
    {
      "cell_type": "code",
      "execution_count": null,
      "metadata": {
        "colab": {
          "base_uri": "https://localhost:8080/",
          "height": 206
        },
        "id": "kJ9QszgGF0DA",
        "outputId": "32286aa7-f46a-4062-a416-6f1c82a6afd2",
        "pycharm": {
          "name": "#%%\n"
        }
      },
      "outputs": [
        {
          "data": {
            "text/html": [
              "<div>\n",
              "<style scoped>\n",
              "    .dataframe tbody tr th:only-of-type {\n",
              "        vertical-align: middle;\n",
              "    }\n",
              "\n",
              "    .dataframe tbody tr th {\n",
              "        vertical-align: top;\n",
              "    }\n",
              "\n",
              "    .dataframe thead th {\n",
              "        text-align: right;\n",
              "    }\n",
              "</style>\n",
              "<table border=\"1\" class=\"dataframe\">\n",
              "  <thead>\n",
              "    <tr style=\"text-align: right;\">\n",
              "      <th></th>\n",
              "      <th>id</th>\n",
              "      <th>job_satisfaction_rate</th>\n",
              "    </tr>\n",
              "  </thead>\n",
              "  <tbody>\n",
              "    <tr>\n",
              "      <th>0</th>\n",
              "      <td>130604</td>\n",
              "      <td>0.74</td>\n",
              "    </tr>\n",
              "    <tr>\n",
              "      <th>1</th>\n",
              "      <td>825977</td>\n",
              "      <td>0.75</td>\n",
              "    </tr>\n",
              "    <tr>\n",
              "      <th>2</th>\n",
              "      <td>418490</td>\n",
              "      <td>0.60</td>\n",
              "    </tr>\n",
              "    <tr>\n",
              "      <th>3</th>\n",
              "      <td>555320</td>\n",
              "      <td>0.72</td>\n",
              "    </tr>\n",
              "    <tr>\n",
              "      <th>4</th>\n",
              "      <td>826430</td>\n",
              "      <td>0.08</td>\n",
              "    </tr>\n",
              "  </tbody>\n",
              "</table>\n",
              "</div>"
            ],
            "text/plain": [
              "       id  job_satisfaction_rate\n",
              "0  130604                   0.74\n",
              "1  825977                   0.75\n",
              "2  418490                   0.60\n",
              "3  555320                   0.72\n",
              "4  826430                   0.08"
            ]
          },
          "execution_count": 7,
          "metadata": {},
          "output_type": "execute_result"
        }
      ],
      "source": [
        "df_test2.head()"
      ]
    },
    {
      "cell_type": "code",
      "execution_count": null,
      "metadata": {
        "id": "3uZeVftFF_B4",
        "pycharm": {
          "name": "#%%\n"
        }
      },
      "outputs": [],
      "source": [
        "df_test = df_test1.merge(df_test2, how='left', on='id')"
      ]
    },
    {
      "cell_type": "code",
      "execution_count": null,
      "metadata": {
        "colab": {
          "base_uri": "https://localhost:8080/",
          "height": 424
        },
        "id": "TaF7pv2CGV8U",
        "outputId": "59f1b52a-cf78-4744-fe98-9f536d4739ea",
        "pycharm": {
          "name": "#%%\n"
        }
      },
      "outputs": [
        {
          "data": {
            "text/html": [
              "<div>\n",
              "<style scoped>\n",
              "    .dataframe tbody tr th:only-of-type {\n",
              "        vertical-align: middle;\n",
              "    }\n",
              "\n",
              "    .dataframe tbody tr th {\n",
              "        vertical-align: top;\n",
              "    }\n",
              "\n",
              "    .dataframe thead th {\n",
              "        text-align: right;\n",
              "    }\n",
              "</style>\n",
              "<table border=\"1\" class=\"dataframe\">\n",
              "  <thead>\n",
              "    <tr style=\"text-align: right;\">\n",
              "      <th></th>\n",
              "      <th>id</th>\n",
              "      <th>dept</th>\n",
              "      <th>level</th>\n",
              "      <th>workload</th>\n",
              "      <th>employment_years</th>\n",
              "      <th>last_year_promo</th>\n",
              "      <th>last_year_violations</th>\n",
              "      <th>supervisor_evaluation</th>\n",
              "      <th>salary</th>\n",
              "      <th>job_satisfaction_rate</th>\n",
              "    </tr>\n",
              "  </thead>\n",
              "  <tbody>\n",
              "    <tr>\n",
              "      <th>0</th>\n",
              "      <td>485046</td>\n",
              "      <td>marketing</td>\n",
              "      <td>junior</td>\n",
              "      <td>medium</td>\n",
              "      <td>2</td>\n",
              "      <td>no</td>\n",
              "      <td>no</td>\n",
              "      <td>5</td>\n",
              "      <td>28800</td>\n",
              "      <td>0.79</td>\n",
              "    </tr>\n",
              "    <tr>\n",
              "      <th>1</th>\n",
              "      <td>686555</td>\n",
              "      <td>hr</td>\n",
              "      <td>junior</td>\n",
              "      <td>medium</td>\n",
              "      <td>1</td>\n",
              "      <td>no</td>\n",
              "      <td>no</td>\n",
              "      <td>4</td>\n",
              "      <td>30000</td>\n",
              "      <td>0.72</td>\n",
              "    </tr>\n",
              "    <tr>\n",
              "      <th>2</th>\n",
              "      <td>467458</td>\n",
              "      <td>sales</td>\n",
              "      <td>middle</td>\n",
              "      <td>low</td>\n",
              "      <td>5</td>\n",
              "      <td>no</td>\n",
              "      <td>no</td>\n",
              "      <td>4</td>\n",
              "      <td>19200</td>\n",
              "      <td>0.64</td>\n",
              "    </tr>\n",
              "    <tr>\n",
              "      <th>3</th>\n",
              "      <td>418655</td>\n",
              "      <td>sales</td>\n",
              "      <td>middle</td>\n",
              "      <td>low</td>\n",
              "      <td>6</td>\n",
              "      <td>no</td>\n",
              "      <td>no</td>\n",
              "      <td>4</td>\n",
              "      <td>19200</td>\n",
              "      <td>0.60</td>\n",
              "    </tr>\n",
              "    <tr>\n",
              "      <th>4</th>\n",
              "      <td>789145</td>\n",
              "      <td>hr</td>\n",
              "      <td>middle</td>\n",
              "      <td>medium</td>\n",
              "      <td>5</td>\n",
              "      <td>no</td>\n",
              "      <td>no</td>\n",
              "      <td>5</td>\n",
              "      <td>40800</td>\n",
              "      <td>0.75</td>\n",
              "    </tr>\n",
              "    <tr>\n",
              "      <th>...</th>\n",
              "      <td>...</td>\n",
              "      <td>...</td>\n",
              "      <td>...</td>\n",
              "      <td>...</td>\n",
              "      <td>...</td>\n",
              "      <td>...</td>\n",
              "      <td>...</td>\n",
              "      <td>...</td>\n",
              "      <td>...</td>\n",
              "      <td>...</td>\n",
              "    </tr>\n",
              "    <tr>\n",
              "      <th>1995</th>\n",
              "      <td>393147</td>\n",
              "      <td>marketing</td>\n",
              "      <td>junior</td>\n",
              "      <td>low</td>\n",
              "      <td>3</td>\n",
              "      <td>no</td>\n",
              "      <td>no</td>\n",
              "      <td>3</td>\n",
              "      <td>20400</td>\n",
              "      <td>0.56</td>\n",
              "    </tr>\n",
              "    <tr>\n",
              "      <th>1996</th>\n",
              "      <td>109582</td>\n",
              "      <td>technology</td>\n",
              "      <td>middle</td>\n",
              "      <td>low</td>\n",
              "      <td>3</td>\n",
              "      <td>no</td>\n",
              "      <td>no</td>\n",
              "      <td>2</td>\n",
              "      <td>21600</td>\n",
              "      <td>0.14</td>\n",
              "    </tr>\n",
              "    <tr>\n",
              "      <th>1997</th>\n",
              "      <td>305653</td>\n",
              "      <td>technology</td>\n",
              "      <td>junior</td>\n",
              "      <td>low</td>\n",
              "      <td>1</td>\n",
              "      <td>no</td>\n",
              "      <td>no</td>\n",
              "      <td>3</td>\n",
              "      <td>14400</td>\n",
              "      <td>0.11</td>\n",
              "    </tr>\n",
              "    <tr>\n",
              "      <th>1998</th>\n",
              "      <td>160233</td>\n",
              "      <td>technology</td>\n",
              "      <td>middle</td>\n",
              "      <td>low</td>\n",
              "      <td>8</td>\n",
              "      <td>no</td>\n",
              "      <td>no</td>\n",
              "      <td>1</td>\n",
              "      <td>32400</td>\n",
              "      <td>0.43</td>\n",
              "    </tr>\n",
              "    <tr>\n",
              "      <th>1999</th>\n",
              "      <td>771859</td>\n",
              "      <td>purchasing</td>\n",
              "      <td>middle</td>\n",
              "      <td>medium</td>\n",
              "      <td>1</td>\n",
              "      <td>no</td>\n",
              "      <td>no</td>\n",
              "      <td>4</td>\n",
              "      <td>38400</td>\n",
              "      <td>0.67</td>\n",
              "    </tr>\n",
              "  </tbody>\n",
              "</table>\n",
              "<p>2000 rows × 10 columns</p>\n",
              "</div>"
            ],
            "text/plain": [
              "          id        dept   level workload  employment_years last_year_promo  \\\n",
              "0     485046   marketing  junior   medium                 2              no   \n",
              "1     686555          hr  junior   medium                 1              no   \n",
              "2     467458       sales  middle      low                 5              no   \n",
              "3     418655       sales  middle      low                 6              no   \n",
              "4     789145          hr  middle   medium                 5              no   \n",
              "...      ...         ...     ...      ...               ...             ...   \n",
              "1995  393147   marketing  junior      low                 3              no   \n",
              "1996  109582  technology  middle      low                 3              no   \n",
              "1997  305653  technology  junior      low                 1              no   \n",
              "1998  160233  technology  middle      low                 8              no   \n",
              "1999  771859  purchasing  middle   medium                 1              no   \n",
              "\n",
              "     last_year_violations  supervisor_evaluation  salary  \\\n",
              "0                      no                      5   28800   \n",
              "1                      no                      4   30000   \n",
              "2                      no                      4   19200   \n",
              "3                      no                      4   19200   \n",
              "4                      no                      5   40800   \n",
              "...                   ...                    ...     ...   \n",
              "1995                   no                      3   20400   \n",
              "1996                   no                      2   21600   \n",
              "1997                   no                      3   14400   \n",
              "1998                   no                      1   32400   \n",
              "1999                   no                      4   38400   \n",
              "\n",
              "      job_satisfaction_rate  \n",
              "0                      0.79  \n",
              "1                      0.72  \n",
              "2                      0.64  \n",
              "3                      0.60  \n",
              "4                      0.75  \n",
              "...                     ...  \n",
              "1995                   0.56  \n",
              "1996                   0.14  \n",
              "1997                   0.11  \n",
              "1998                   0.43  \n",
              "1999                   0.67  \n",
              "\n",
              "[2000 rows x 10 columns]"
            ]
          },
          "execution_count": 9,
          "metadata": {},
          "output_type": "execute_result"
        }
      ],
      "source": [
        "df_test"
      ]
    },
    {
      "cell_type": "code",
      "execution_count": null,
      "metadata": {
        "colab": {
          "base_uri": "https://localhost:8080/",
          "height": 206
        },
        "id": "cL9AdHrZNg38",
        "outputId": "94efffb4-fe45-43fd-fbda-9f10244da8ce",
        "pycharm": {
          "name": "#%%\n"
        }
      },
      "outputs": [
        {
          "data": {
            "text/html": [
              "<div>\n",
              "<style scoped>\n",
              "    .dataframe tbody tr th:only-of-type {\n",
              "        vertical-align: middle;\n",
              "    }\n",
              "\n",
              "    .dataframe tbody tr th {\n",
              "        vertical-align: top;\n",
              "    }\n",
              "\n",
              "    .dataframe thead th {\n",
              "        text-align: right;\n",
              "    }\n",
              "</style>\n",
              "<table border=\"1\" class=\"dataframe\">\n",
              "  <thead>\n",
              "    <tr style=\"text-align: right;\">\n",
              "      <th></th>\n",
              "      <th>id</th>\n",
              "      <th>dept</th>\n",
              "      <th>level</th>\n",
              "      <th>workload</th>\n",
              "      <th>employment_years</th>\n",
              "      <th>last_year_promo</th>\n",
              "      <th>last_year_violations</th>\n",
              "      <th>supervisor_evaluation</th>\n",
              "      <th>salary</th>\n",
              "      <th>job_satisfaction_rate</th>\n",
              "    </tr>\n",
              "  </thead>\n",
              "  <tbody>\n",
              "    <tr>\n",
              "      <th>0</th>\n",
              "      <td>155278</td>\n",
              "      <td>sales</td>\n",
              "      <td>junior</td>\n",
              "      <td>medium</td>\n",
              "      <td>2</td>\n",
              "      <td>no</td>\n",
              "      <td>no</td>\n",
              "      <td>1</td>\n",
              "      <td>24000</td>\n",
              "      <td>0.58</td>\n",
              "    </tr>\n",
              "    <tr>\n",
              "      <th>1</th>\n",
              "      <td>653870</td>\n",
              "      <td>hr</td>\n",
              "      <td>junior</td>\n",
              "      <td>high</td>\n",
              "      <td>2</td>\n",
              "      <td>no</td>\n",
              "      <td>no</td>\n",
              "      <td>5</td>\n",
              "      <td>38400</td>\n",
              "      <td>0.76</td>\n",
              "    </tr>\n",
              "    <tr>\n",
              "      <th>2</th>\n",
              "      <td>184592</td>\n",
              "      <td>sales</td>\n",
              "      <td>junior</td>\n",
              "      <td>low</td>\n",
              "      <td>1</td>\n",
              "      <td>no</td>\n",
              "      <td>no</td>\n",
              "      <td>2</td>\n",
              "      <td>12000</td>\n",
              "      <td>0.11</td>\n",
              "    </tr>\n",
              "    <tr>\n",
              "      <th>3</th>\n",
              "      <td>171431</td>\n",
              "      <td>technology</td>\n",
              "      <td>junior</td>\n",
              "      <td>low</td>\n",
              "      <td>4</td>\n",
              "      <td>no</td>\n",
              "      <td>no</td>\n",
              "      <td>2</td>\n",
              "      <td>18000</td>\n",
              "      <td>0.37</td>\n",
              "    </tr>\n",
              "    <tr>\n",
              "      <th>4</th>\n",
              "      <td>693419</td>\n",
              "      <td>hr</td>\n",
              "      <td>junior</td>\n",
              "      <td>medium</td>\n",
              "      <td>1</td>\n",
              "      <td>no</td>\n",
              "      <td>no</td>\n",
              "      <td>3</td>\n",
              "      <td>22800</td>\n",
              "      <td>0.20</td>\n",
              "    </tr>\n",
              "  </tbody>\n",
              "</table>\n",
              "</div>"
            ],
            "text/plain": [
              "       id        dept   level workload  employment_years last_year_promo  \\\n",
              "0  155278       sales  junior   medium                 2              no   \n",
              "1  653870          hr  junior     high                 2              no   \n",
              "2  184592       sales  junior      low                 1              no   \n",
              "3  171431  technology  junior      low                 4              no   \n",
              "4  693419          hr  junior   medium                 1              no   \n",
              "\n",
              "  last_year_violations  supervisor_evaluation  salary  job_satisfaction_rate  \n",
              "0                   no                      1   24000                   0.58  \n",
              "1                   no                      5   38400                   0.76  \n",
              "2                   no                      2   12000                   0.11  \n",
              "3                   no                      2   18000                   0.37  \n",
              "4                   no                      3   22800                   0.20  "
            ]
          },
          "execution_count": 10,
          "metadata": {},
          "output_type": "execute_result"
        }
      ],
      "source": [
        "df_train.head()"
      ]
    },
    {
      "cell_type": "code",
      "execution_count": null,
      "metadata": {
        "id": "ZdbB6TCp_PeR",
        "outputId": "d849807c-5ae9-4b52-ebe8-d72e24dc9e44"
      },
      "outputs": [
        {
          "name": "stdout",
          "output_type": "stream",
          "text": [
            "<class 'pandas.core.frame.DataFrame'>\n",
            "RangeIndex: 4000 entries, 0 to 3999\n",
            "Data columns (total 10 columns):\n",
            " #   Column                 Non-Null Count  Dtype  \n",
            "---  ------                 --------------  -----  \n",
            " 0   id                     4000 non-null   int64  \n",
            " 1   dept                   3994 non-null   object \n",
            " 2   level                  3996 non-null   object \n",
            " 3   workload               4000 non-null   object \n",
            " 4   employment_years       4000 non-null   int64  \n",
            " 5   last_year_promo        4000 non-null   object \n",
            " 6   last_year_violations   4000 non-null   object \n",
            " 7   supervisor_evaluation  4000 non-null   int64  \n",
            " 8   salary                 4000 non-null   int64  \n",
            " 9   job_satisfaction_rate  4000 non-null   float64\n",
            "dtypes: float64(1), int64(4), object(5)\n",
            "memory usage: 312.6+ KB\n"
          ]
        }
      ],
      "source": [
        "df_train.info()"
      ]
    },
    {
      "cell_type": "code",
      "execution_count": null,
      "metadata": {
        "id": "ZqnCitvD_PeR",
        "outputId": "ad1d8321-3146-42d6-ada1-1da753f6e317"
      },
      "outputs": [
        {
          "name": "stdout",
          "output_type": "stream",
          "text": [
            "<class 'pandas.core.frame.DataFrame'>\n",
            "Int64Index: 2000 entries, 0 to 1999\n",
            "Data columns (total 10 columns):\n",
            " #   Column                 Non-Null Count  Dtype  \n",
            "---  ------                 --------------  -----  \n",
            " 0   id                     2000 non-null   int64  \n",
            " 1   dept                   1998 non-null   object \n",
            " 2   level                  1999 non-null   object \n",
            " 3   workload               2000 non-null   object \n",
            " 4   employment_years       2000 non-null   int64  \n",
            " 5   last_year_promo        2000 non-null   object \n",
            " 6   last_year_violations   2000 non-null   object \n",
            " 7   supervisor_evaluation  2000 non-null   int64  \n",
            " 8   salary                 2000 non-null   int64  \n",
            " 9   job_satisfaction_rate  2000 non-null   float64\n",
            "dtypes: float64(1), int64(4), object(5)\n",
            "memory usage: 171.9+ KB\n"
          ]
        }
      ],
      "source": [
        "df_test.info()"
      ]
    },
    {
      "cell_type": "markdown",
      "metadata": {
        "id": "ENUk9skK_PeS"
      },
      "source": [
        "### Вывод\n",
        "\n",
        "**В данных есть Nan, для удобства создана таблица df_test с входным и целевым признаками для тестирования модели. Стандартизация имён столлбцов не требуется.**"
      ]
    },
    {
      "cell_type": "markdown",
      "metadata": {
        "id": "3eMFebN6OAoR",
        "pycharm": {
          "name": "#%% md\n"
        }
      },
      "source": [
        "## Предобработка"
      ]
    },
    {
      "cell_type": "code",
      "execution_count": null,
      "metadata": {
        "id": "BciuOyDIHLdQ",
        "pycharm": {
          "name": "#%%\n"
        }
      },
      "outputs": [],
      "source": [
        "df_train = df_train.set_index('id')\n",
        "df_test = df_test.set_index('id')"
      ]
    },
    {
      "cell_type": "code",
      "execution_count": null,
      "metadata": {
        "colab": {
          "base_uri": "https://localhost:8080/"
        },
        "id": "PmK4WsSyyKVa",
        "outputId": "437bddca-e607-4307-8f04-35c938554da7",
        "pycharm": {
          "name": "#%%\n"
        }
      },
      "outputs": [
        {
          "name": "stdout",
          "output_type": "stream",
          "text": [
            "<class 'pandas.core.frame.DataFrame'>\n",
            "Int64Index: 2000 entries, 485046 to 771859\n",
            "Data columns (total 9 columns):\n",
            " #   Column                 Non-Null Count  Dtype  \n",
            "---  ------                 --------------  -----  \n",
            " 0   dept                   1998 non-null   object \n",
            " 1   level                  1999 non-null   object \n",
            " 2   workload               2000 non-null   object \n",
            " 3   employment_years       2000 non-null   int64  \n",
            " 4   last_year_promo        2000 non-null   object \n",
            " 5   last_year_violations   2000 non-null   object \n",
            " 6   supervisor_evaluation  2000 non-null   int64  \n",
            " 7   salary                 2000 non-null   int64  \n",
            " 8   job_satisfaction_rate  2000 non-null   float64\n",
            "dtypes: float64(1), int64(3), object(5)\n",
            "memory usage: 156.2+ KB\n"
          ]
        }
      ],
      "source": [
        "df_test.info()"
      ]
    },
    {
      "cell_type": "code",
      "execution_count": null,
      "metadata": {
        "colab": {
          "base_uri": "https://localhost:8080/"
        },
        "id": "tgDyOGjHNnzl",
        "outputId": "941c1875-50b0-4207-f7ce-ce4dd253f801",
        "pycharm": {
          "name": "#%%\n"
        }
      },
      "outputs": [
        {
          "name": "stdout",
          "output_type": "stream",
          "text": [
            "<class 'pandas.core.frame.DataFrame'>\n",
            "Int64Index: 4000 entries, 155278 to 338347\n",
            "Data columns (total 9 columns):\n",
            " #   Column                 Non-Null Count  Dtype  \n",
            "---  ------                 --------------  -----  \n",
            " 0   dept                   3994 non-null   object \n",
            " 1   level                  3996 non-null   object \n",
            " 2   workload               4000 non-null   object \n",
            " 3   employment_years       4000 non-null   int64  \n",
            " 4   last_year_promo        4000 non-null   object \n",
            " 5   last_year_violations   4000 non-null   object \n",
            " 6   supervisor_evaluation  4000 non-null   int64  \n",
            " 7   salary                 4000 non-null   int64  \n",
            " 8   job_satisfaction_rate  4000 non-null   float64\n",
            "dtypes: float64(1), int64(3), object(5)\n",
            "memory usage: 312.5+ KB\n"
          ]
        }
      ],
      "source": [
        "df_train.info()"
      ]
    },
    {
      "cell_type": "code",
      "execution_count": null,
      "metadata": {
        "colab": {
          "base_uri": "https://localhost:8080/"
        },
        "id": "8Fmn7N95Oygd",
        "outputId": "f8724eaf-cb28-4566-de7a-7a4d759b17a1",
        "pycharm": {
          "name": "#%%\n"
        }
      },
      "outputs": [
        {
          "data": {
            "text/plain": [
              "245"
            ]
          },
          "execution_count": 16,
          "metadata": {},
          "output_type": "execute_result"
        }
      ],
      "source": [
        "# Явные дубли\n",
        "df_train.duplicated().sum()"
      ]
    },
    {
      "cell_type": "code",
      "execution_count": null,
      "metadata": {
        "colab": {
          "base_uri": "https://localhost:8080/"
        },
        "id": "Kh40sgkryuDc",
        "outputId": "4c305610-fbec-48b5-9c37-f9ede77aa7b9",
        "pycharm": {
          "name": "#%%\n"
        }
      },
      "outputs": [
        {
          "data": {
            "text/plain": [
              "83"
            ]
          },
          "execution_count": 17,
          "metadata": {},
          "output_type": "execute_result"
        }
      ],
      "source": [
        "df_test.duplicated().sum()"
      ]
    },
    {
      "cell_type": "code",
      "execution_count": null,
      "metadata": {
        "id": "Hi7-zsnNyx9b",
        "pycharm": {
          "name": "#%%\n"
        }
      },
      "outputs": [],
      "source": [
        "df_train = df_train.drop_duplicates()\n",
        "df_test = df_test.drop_duplicates()"
      ]
    },
    {
      "cell_type": "code",
      "execution_count": null,
      "metadata": {
        "colab": {
          "base_uri": "https://localhost:8080/"
        },
        "id": "q0Ow5gJtPE9k",
        "outputId": "0d83327b-5e4a-4154-8c1c-b273c661ee23",
        "pycharm": {
          "name": "#%%\n"
        }
      },
      "outputs": [
        {
          "name": "stdout",
          "output_type": "stream",
          "text": [
            "уникальные значения столбца dept : ['sales' 'hr' 'technology' 'purchasing' 'marketing' nan]\n",
            "уникальные значения столбца level : ['junior' 'middle' 'sinior' nan]\n",
            "уникальные значения столбца workload : ['medium' 'high' 'low']\n",
            "уникальные значения столбца last_year_promo : ['no' 'yes']\n",
            "уникальные значения столбца last_year_violations : ['no' 'yes']\n"
          ]
        }
      ],
      "source": [
        "# Неявные дубли\n",
        "for i in df_train.select_dtypes(include = 'object').columns:\n",
        "        print(f'уникальные значения столбца {i} : {df_train[i].unique()}')"
      ]
    },
    {
      "cell_type": "code",
      "execution_count": null,
      "metadata": {
        "id": "47OdE1W0_PeU",
        "outputId": "db05c071-847b-422a-fc5b-53e42d02aa64"
      },
      "outputs": [
        {
          "name": "stdout",
          "output_type": "stream",
          "text": [
            "уникальные значения столбца dept : ['sales' 'hr' 'technology' 'purchasing' 'marketing' nan]\n",
            "уникальные значения столбца level : ['junior' 'middle' 'sinior' nan]\n",
            "уникальные значения столбца workload : ['medium' 'high' 'low']\n",
            "уникальные значения столбца last_year_promo : ['no' 'yes']\n",
            "уникальные значения столбца last_year_violations : ['no' 'yes']\n"
          ]
        }
      ],
      "source": [
        "for i in df_test.select_dtypes(include = 'object').columns:\n",
        "        print(f'уникальные значения столбца {i} : {df_train[i].unique()}')"
      ]
    },
    {
      "cell_type": "markdown",
      "metadata": {
        "id": "g_4cGok8Rx1R",
        "pycharm": {
          "name": "#%% md\n"
        }
      },
      "source": [
        "### Вывод:\n",
        "\n",
        "**Дубликаты удалены, Nan будут заменены с помошью SimpleImputer в пайплайне.**"
      ]
    },
    {
      "cell_type": "markdown",
      "metadata": {
        "id": "NA6b1qcASB-m",
        "pycharm": {
          "name": "#%% md\n"
        }
      },
      "source": [
        "## Исследовательский анализ"
      ]
    },
    {
      "cell_type": "markdown",
      "metadata": {
        "id": "7tGggnxGSW-3",
        "pycharm": {
          "name": "#%% md\n"
        }
      },
      "source": [
        "### Численные признаки"
      ]
    },
    {
      "cell_type": "code",
      "execution_count": null,
      "metadata": {
        "id": "tEoflFwjRmDm",
        "pycharm": {
          "name": "#%%\n"
        }
      },
      "outputs": [],
      "source": [
        "# Автоматизированное изучение кол. признаков\n",
        "\n",
        "def numgraph(col):\n",
        "  if col.dtype in ['int64', 'float']:\n",
        "    fig, axs = plt.subplots(1,2)\n",
        "    fig.suptitle(f'{str(col.name)}: hist and boxplot')\n",
        "\n",
        "    sns.histplot(col, bins=10, ax=axs[0])\n",
        "    axs[0].axvline(col.mean(), color='r')\n",
        "    axs[0].axvline(col.median(), color='r', linestyle='dashed')\n",
        "\n",
        "    sns.boxplot(x=col, ax=axs[1])\n",
        "\n",
        "    plt.show()\n",
        "    print(col.describe())"
      ]
    },
    {
      "cell_type": "code",
      "execution_count": null,
      "metadata": {
        "colab": {
          "base_uri": "https://localhost:8080/",
          "height": 1000
        },
        "id": "JKnL7ZU5Sn00",
        "outputId": "5a63f747-4a6c-4a81-fe26-149010dbb157",
        "pycharm": {
          "name": "#%%\n"
        }
      },
      "outputs": [
        {
          "data": {
            "image/png": "[encoded data removed]",
            "text/plain": [
              "<Figure size 432x288 with 2 Axes>"
            ]
          },
          "metadata": {
            "needs_background": "light"
          },
          "output_type": "display_data"
        },
        {
          "name": "stdout",
          "output_type": "stream",
          "text": [
            "count    3755.000000\n",
            "mean        3.817044\n",
            "std         2.557142\n",
            "min         1.000000\n",
            "25%         2.000000\n",
            "50%         3.000000\n",
            "75%         6.000000\n",
            "max        10.000000\n",
            "Name: employment_years, dtype: float64\n"
          ]
        },
        {
          "data": {
            "image/png": "[encoded data removed]",
            "text/plain": [
              "<Figure size 432x288 with 2 Axes>"
            ]
          },
          "metadata": {
            "needs_background": "light"
          },
          "output_type": "display_data"
        },
        {
          "name": "stdout",
          "output_type": "stream",
          "text": [
            "count    3755.000000\n",
            "mean        3.463648\n",
            "std         1.026265\n",
            "min         1.000000\n",
            "25%         3.000000\n",
            "50%         4.000000\n",
            "75%         4.000000\n",
            "max         5.000000\n",
            "Name: supervisor_evaluation, dtype: float64\n"
          ]
        },
        {
          "data": {
            "image/png": "[encoded data removed]",
            "text/plain": [
              "<Figure size 432x288 with 2 Axes>"
            ]
          },
          "metadata": {
            "needs_background": "light"
          },
          "output_type": "display_data"
        },
        {
          "name": "stdout",
          "output_type": "stream",
          "text": [
            "count     3755.000000\n",
            "mean     34457.416778\n",
            "std      15050.643870\n",
            "min      12000.000000\n",
            "25%      22800.000000\n",
            "50%      31200.000000\n",
            "75%      44400.000000\n",
            "max      98400.000000\n",
            "Name: salary, dtype: float64\n"
          ]
        },
        {
          "data": {
            "image/png": "[encoded data removed]",
            "text/plain": [
              "<Figure size 432x288 with 2 Axes>"
            ]
          },
          "metadata": {
            "needs_background": "light"
          },
          "output_type": "display_data"
        },
        {
          "name": "stdout",
          "output_type": "stream",
          "text": [
            "count    3755.000000\n",
            "mean        0.532554\n",
            "std         0.226393\n",
            "min         0.030000\n",
            "25%         0.350000\n",
            "50%         0.550000\n",
            "75%         0.710000\n",
            "max         1.000000\n",
            "Name: job_satisfaction_rate, dtype: float64\n"
          ]
        }
      ],
      "source": [
        "for i in df_train.columns:\n",
        "    numgraph(df_train[i])"
      ]
    },
    {
      "cell_type": "markdown",
      "metadata": {
        "id": "WX3Q1DuvS-k9",
        "pycharm": {
          "name": "#%% md\n"
        }
      },
      "source": [
        "**Признаки распределены нормально(в том числе и целевой), существуют выбивающиеся значения в зарплатах, что, вероятно, связано с меньшинством высокооплачиваемых сотрудников требуется масштабирование при моделировании.**"
      ]
    },
    {
      "cell_type": "markdown",
      "metadata": {
        "id": "Dkxhg1raUN1C",
        "pycharm": {
          "name": "#%% md\n"
        }
      },
      "source": [
        "### Категориальные признаки"
      ]
    },
    {
      "cell_type": "code",
      "execution_count": null,
      "metadata": {
        "id": "MbROh9RySxZA",
        "pycharm": {
          "name": "#%%\n"
        }
      },
      "outputs": [],
      "source": [
        "# Автоматизированное изучение кат. признаков\n",
        "\n",
        "\n",
        "def catgraph(df, col):\n",
        "    dfg = df.groupby(col.name).size()\n",
        "    fig, axs = plt.subplots(nrows=1, ncols=2, figsize=(10, 5))\n",
        "    axs[0].pie(dfg, labels=dfg.index, autopct='%1.1f%%')\n",
        "    axs[0].set_title(f'Pie Chart {col.name}')\n",
        "    axs[1].bar(dfg.index, dfg)\n",
        "    axs[1].set_title(f'Bar Chart {col.name}')\n",
        "    plt.show"
      ]
    },
    {
      "cell_type": "code",
      "execution_count": null,
      "metadata": {
        "colab": {
          "base_uri": "https://localhost:8080/",
          "height": 1000
        },
        "id": "fT5NZ0DQUeqP",
        "outputId": "ee362e14-4787-4c4c-92ac-03b280d26b40",
        "pycharm": {
          "name": "#%%\n"
        }
      },
      "outputs": [
        {
          "data": {
            "image/png": "[encoded data removed]",
            "text/plain": [
              "<Figure size 720x360 with 2 Axes>"
            ]
          },
          "metadata": {
            "needs_background": "light"
          },
          "output_type": "display_data"
        },
        {
          "data": {
            "image/png": "[encoded data removed]",
            "text/plain": [
              "<Figure size 720x360 with 2 Axes>"
            ]
          },
          "metadata": {
            "needs_background": "light"
          },
          "output_type": "display_data"
        },
        {
          "data": {
            "image/png": "[encoded data removed]",
            "text/plain": [
              "<Figure size 720x360 with 2 Axes>"
            ]
          },
          "metadata": {
            "needs_background": "light"
          },
          "output_type": "display_data"
        },
        {
          "data": {
            "image/png": "[encoded data removed]",
            "text/plain": [
              "<Figure size 720x360 with 2 Axes>"
            ]
          },
          "metadata": {
            "needs_background": "light"
          },
          "output_type": "display_data"
        },
        {
          "data": {
            "image/png": "[encoded data removed]",
            "text/plain": [
              "<Figure size 720x360 with 2 Axes>"
            ]
          },
          "metadata": {
            "needs_background": "light"
          },
          "output_type": "display_data"
        }
      ],
      "source": [
        "for i in df_train.select_dtypes(include = 'object').columns:\n",
        "        catgraph(df_train, df_train[i])"
      ]
    },
    {
      "cell_type": "markdown",
      "metadata": {
        "id": "JZwCsJikVaZo",
        "pycharm": {
          "name": "#%% md\n"
        }
      },
      "source": [
        "### Вывод:\n",
        "\n",
        "**Количественные признаки распределены нормально, в том числе и целевой. Однако значения зарплат для высокооплачиваемых сотрудников сильно отличаются от остальных, при этом, таких сотрудников кратно меньше. При моделировании может понадобиться отдельное рассмотрение этого класса персонала.**\n"
      ]
    },
    {
      "cell_type": "markdown",
      "metadata": {
        "id": "Aq8-Rfskc6Qc",
        "pycharm": {
          "name": "#%% md\n"
        }
      },
      "source": [
        "## Корреляционный анализ\n"
      ]
    },
    {
      "cell_type": "code",
      "execution_count": null,
      "metadata": {
        "colab": {
          "base_uri": "https://localhost:8080/",
          "height": 1000
        },
        "id": "eRnW609MUuF_",
        "outputId": "c530d369-988c-4bf3-9734-038b40736f57",
        "pycharm": {
          "name": "#%%\n"
        }
      },
      "outputs": [
        {
          "data": {
            "image/png": "[encoded data removed]",
            "text/plain": [
              "<Figure size 720x720 with 2 Axes>"
            ]
          },
          "metadata": {
            "needs_background": "light"
          },
          "output_type": "display_data"
        }
      ],
      "source": [
        "# Матрица phik\n",
        "\n",
        "interval_cols = df_train.select_dtypes(exclude = 'object').columns\n",
        "phik_overview = phik_matrix(df_train, interval_cols=interval_cols)\n",
        "\n",
        "plot_correlation_matrix(\n",
        "    phik_overview.values,\n",
        "    x_labels=phik_overview.columns,\n",
        "    y_labels=phik_overview.index,\n",
        "    vmin=0, vmax=1, color_map='Blues',\n",
        "    title=r'correlation $\\phi_K$',\n",
        "    fontsize_factor=1.5,\n",
        "    figsize=(10, 10)\n",
        ")"
      ]
    },
    {
      "cell_type": "markdown",
      "metadata": {
        "id": "AZIIMX8kdius",
        "pycharm": {
          "name": "#%% md\n"
        }
      },
      "source": [
        "### Вывод\n",
        "\n",
        "**Мультиколлинеарности нет.**"
      ]
    },
    {
      "cell_type": "markdown",
      "metadata": {
        "id": "MbSTQ4JAd338",
        "pycharm": {
          "name": "#%% md\n"
        }
      },
      "source": [
        "## Подготовка данных"
      ]
    },
    {
      "cell_type": "code",
      "execution_count": null,
      "metadata": {
        "colab": {
          "base_uri": "https://localhost:8080/",
          "height": 237
        },
        "id": "65cAquHheC5j",
        "outputId": "ccc5770a-6e24-4643-bb32-deee521d6358",
        "pycharm": {
          "name": "#%%\n"
        }
      },
      "outputs": [
        {
          "data": {
            "text/html": [
              "<div>\n",
              "<style scoped>\n",
              "    .dataframe tbody tr th:only-of-type {\n",
              "        vertical-align: middle;\n",
              "    }\n",
              "\n",
              "    .dataframe tbody tr th {\n",
              "        vertical-align: top;\n",
              "    }\n",
              "\n",
              "    .dataframe thead th {\n",
              "        text-align: right;\n",
              "    }\n",
              "</style>\n",
              "<table border=\"1\" class=\"dataframe\">\n",
              "  <thead>\n",
              "    <tr style=\"text-align: right;\">\n",
              "      <th></th>\n",
              "      <th>dept</th>\n",
              "      <th>level</th>\n",
              "      <th>workload</th>\n",
              "      <th>employment_years</th>\n",
              "      <th>last_year_promo</th>\n",
              "      <th>last_year_violations</th>\n",
              "      <th>supervisor_evaluation</th>\n",
              "      <th>salary</th>\n",
              "      <th>job_satisfaction_rate</th>\n",
              "    </tr>\n",
              "    <tr>\n",
              "      <th>id</th>\n",
              "      <th></th>\n",
              "      <th></th>\n",
              "      <th></th>\n",
              "      <th></th>\n",
              "      <th></th>\n",
              "      <th></th>\n",
              "      <th></th>\n",
              "      <th></th>\n",
              "      <th></th>\n",
              "    </tr>\n",
              "  </thead>\n",
              "  <tbody>\n",
              "    <tr>\n",
              "      <th>155278</th>\n",
              "      <td>sales</td>\n",
              "      <td>junior</td>\n",
              "      <td>medium</td>\n",
              "      <td>2</td>\n",
              "      <td>no</td>\n",
              "      <td>no</td>\n",
              "      <td>1</td>\n",
              "      <td>24000</td>\n",
              "      <td>0.58</td>\n",
              "    </tr>\n",
              "    <tr>\n",
              "      <th>653870</th>\n",
              "      <td>hr</td>\n",
              "      <td>junior</td>\n",
              "      <td>high</td>\n",
              "      <td>2</td>\n",
              "      <td>no</td>\n",
              "      <td>no</td>\n",
              "      <td>5</td>\n",
              "      <td>38400</td>\n",
              "      <td>0.76</td>\n",
              "    </tr>\n",
              "    <tr>\n",
              "      <th>184592</th>\n",
              "      <td>sales</td>\n",
              "      <td>junior</td>\n",
              "      <td>low</td>\n",
              "      <td>1</td>\n",
              "      <td>no</td>\n",
              "      <td>no</td>\n",
              "      <td>2</td>\n",
              "      <td>12000</td>\n",
              "      <td>0.11</td>\n",
              "    </tr>\n",
              "    <tr>\n",
              "      <th>171431</th>\n",
              "      <td>technology</td>\n",
              "      <td>junior</td>\n",
              "      <td>low</td>\n",
              "      <td>4</td>\n",
              "      <td>no</td>\n",
              "      <td>no</td>\n",
              "      <td>2</td>\n",
              "      <td>18000</td>\n",
              "      <td>0.37</td>\n",
              "    </tr>\n",
              "    <tr>\n",
              "      <th>693419</th>\n",
              "      <td>hr</td>\n",
              "      <td>junior</td>\n",
              "      <td>medium</td>\n",
              "      <td>1</td>\n",
              "      <td>no</td>\n",
              "      <td>no</td>\n",
              "      <td>3</td>\n",
              "      <td>22800</td>\n",
              "      <td>0.20</td>\n",
              "    </tr>\n",
              "  </tbody>\n",
              "</table>\n",
              "</div>"
            ],
            "text/plain": [
              "              dept   level workload  employment_years last_year_promo  \\\n",
              "id                                                                      \n",
              "155278       sales  junior   medium                 2              no   \n",
              "653870          hr  junior     high                 2              no   \n",
              "184592       sales  junior      low                 1              no   \n",
              "171431  technology  junior      low                 4              no   \n",
              "693419          hr  junior   medium                 1              no   \n",
              "\n",
              "       last_year_violations  supervisor_evaluation  salary  \\\n",
              "id                                                           \n",
              "155278                   no                      1   24000   \n",
              "653870                   no                      5   38400   \n",
              "184592                   no                      2   12000   \n",
              "171431                   no                      2   18000   \n",
              "693419                   no                      3   22800   \n",
              "\n",
              "        job_satisfaction_rate  \n",
              "id                             \n",
              "155278                   0.58  \n",
              "653870                   0.76  \n",
              "184592                   0.11  \n",
              "171431                   0.37  \n",
              "693419                   0.20  "
            ]
          },
          "execution_count": 26,
          "metadata": {},
          "output_type": "execute_result"
        }
      ],
      "source": [
        "df_train.head()"
      ]
    },
    {
      "cell_type": "code",
      "execution_count": null,
      "metadata": {
        "id": "9GyoAqzqdI7v",
        "pycharm": {
          "name": "#%%\n"
        }
      },
      "outputs": [],
      "source": [
        "X_train = df_train.drop('job_satisfaction_rate', axis = 1)\n",
        "y_train = df_train['job_satisfaction_rate']"
      ]
    },
    {
      "cell_type": "code",
      "execution_count": null,
      "metadata": {
        "id": "sOBcvG2zeH_s",
        "pycharm": {
          "name": "#%%\n"
        }
      },
      "outputs": [],
      "source": [
        "ord_cols = ['level','workload']\n",
        "ohe_cols = ['dept', 'last_year_promo', 'last_year_violations']\n",
        "num_cols = df_train.select_dtypes(exclude = 'object').columns.drop('job_satisfaction_rate')"
      ]
    },
    {
      "cell_type": "code",
      "execution_count": null,
      "metadata": {
        "id": "ZxkMlHMKeSs-",
        "pycharm": {
          "name": "#%%\n"
        }
      },
      "outputs": [],
      "source": [
        "ohe_pipe = Pipeline(\n",
        "[\n",
        "    ('SimpleImputer_ohe',\n",
        "    SimpleImputer(missing_values=np.nan, strategy='most_frequent')),\n",
        "    ('SimpleImputer_2',\n",
        "    SimpleImputer(missing_values= ' ', strategy='most_frequent')),\n",
        "    ('ohe',\n",
        "    OneHotEncoder(drop = 'first', handle_unknown='error'))\n",
        "]\n",
        ")\n",
        "\n",
        "ord_pipe = Pipeline(\n",
        "[\n",
        "    ('SimpleImputer_bOE',\n",
        "    SimpleImputer(missing_values = np.nan, strategy ='most_frequent')),\n",
        "    ('OE',\n",
        "    OrdinalEncoder(handle_unknown = 'use_encoded_value', unknown_value = np.nan)),\n",
        "    ('SimpleImputer_aOE',\n",
        "    SimpleImputer(missing_values = np.nan, strategy ='most_frequent'))\n",
        "]\n",
        ")\n",
        "\n",
        "preprocessor = ColumnTransformer(\n",
        "[\n",
        "    ('ohe', ohe_pipe, ohe_cols),\n",
        "    ('ord', ord_pipe, ord_cols),\n",
        "    ('num', StandardScaler(), num_cols)\n",
        "],\n",
        "    remainder='passthrough'\n",
        ")"
      ]
    },
    {
      "cell_type": "code",
      "execution_count": null,
      "metadata": {
        "id": "UkD9eLHogN2B",
        "pycharm": {
          "name": "#%%\n"
        }
      },
      "outputs": [],
      "source": [
        "param_grid = [\n",
        "    {\n",
        "       'model' : [SVR()],\n",
        "       'model__kernel' : ['poly', 'rbf', 'sigmoid', 'precomputed'],\n",
        "       'model__degree' : range(1,4),\n",
        "       'preprocessor__num' : [StandardScaler(),\n",
        "                           MinMaxScaler(),\n",
        "                           RobustScaler(),\n",
        "                           'passthrough']\n",
        "    },\n",
        "\n",
        "    {\n",
        "        'model' : [GradientBoostingRegressor()],\n",
        "        'model__n_estimators' : range(100, 300, 10),\n",
        "        'model__max_depth' : range(1,30),\n",
        "        'model__min_samples_split' : range(2,30),\n",
        "        'model__min_samples_leaf' : range(1,30),\n",
        "        'preprocessor__num' : [StandardScaler(),\n",
        "                           MinMaxScaler(),\n",
        "                           RobustScaler(),\n",
        "                           'passthrough']\n",
        "    },\n",
        "    {\n",
        "        'model' : [DecisionTreeRegressor(random_state = RANDOM_STATE)],\n",
        "        'model__max_depth' : range(1,30),\n",
        "        'model__min_samples_split' : range(2,30),\n",
        "        'model__min_samples_leaf' : range(1,30),\n",
        "        'preprocessor__num' : [StandardScaler(),\n",
        "                           MinMaxScaler(),\n",
        "                           RobustScaler(),\n",
        "                           'passthrough']\n",
        "    }\n",
        "]"
      ]
    },
    {
      "cell_type": "code",
      "execution_count": null,
      "metadata": {
        "id": "d3ybhqHhgU0u",
        "pycharm": {
          "name": "#%%\n"
        }
      },
      "outputs": [],
      "source": [
        "full_pipe = Pipeline(\n",
        "[\n",
        "    ('preprocessor', preprocessor),\n",
        "    ('model', LinearRegression())\n",
        "]\n",
        ")"
      ]
    },
    {
      "cell_type": "code",
      "execution_count": null,
      "metadata": {
        "id": "3_7n0Z2a1h_8",
        "pycharm": {
          "name": "#%%\n"
        }
      },
      "outputs": [],
      "source": [
        "def smape(A, F):\n",
        "    return 100/abs(len(A)) * np.sum(2 * np.abs(F - A) / (np.abs(A) + np.abs(F)))\n",
        "smape_scorer = make_scorer(smape, greater_is_better=False)"
      ]
    },
    {
      "cell_type": "code",
      "execution_count": null,
      "metadata": {
        "id": "WXJHKzqEgXfC",
        "pycharm": {
          "name": "#%%\n"
        }
      },
      "outputs": [],
      "source": [
        "randomized_search = RandomizedSearchCV(\n",
        "    full_pipe,\n",
        "    param_distributions=param_grid,\n",
        "    scoring=smape_scorer,\n",
        "    random_state=RANDOM_STATE,\n",
        "    n_jobs=-1\n",
        ")"
      ]
    },
    {
      "cell_type": "markdown",
      "metadata": {
        "id": "goBEezly1eHP",
        "pycharm": {
          "name": "#%% md\n"
        }
      },
      "source": [
        "## Обучение моделей"
      ]
    },
    {
      "cell_type": "code",
      "execution_count": null,
      "metadata": {
        "colab": {
          "base_uri": "https://localhost:8080/",
          "height": 303
        },
        "id": "lk71RB41gd9N",
        "outputId": "ff81485e-7ecf-4515-9ba5-bec96bf4af1e",
        "pycharm": {
          "name": "#%%\n"
        }
      },
      "outputs": [
        {
          "name": "stderr",
          "output_type": "stream",
          "text": [
            "Unlike other reduction functions (e.g. `skew`, `kurtosis`), the default behavior of `mode` typically preserves the axis it acts along. In SciPy 1.11.0, this behavior will change: the default value of `keepdims` will become False, the `axis` over which the statistic is taken will be eliminated, and the value None will no longer be accepted. Set `keepdims` to True or False to avoid this warning.\n"
          ]
        },
        {
          "data": {
            "text/plain": [
              "RandomizedSearchCV(estimator=Pipeline(steps=[('preprocessor',\n",
              "                                              ColumnTransformer(remainder='passthrough',\n",
              "                                                                transformers=[('ohe',\n",
              "                                                                               Pipeline(steps=[('SimpleImputer_ohe',\n",
              "                                                                                                SimpleImputer(strategy='most_frequent')),\n",
              "                                                                                               ('SimpleImputer_2',\n",
              "                                                                                                SimpleImputer(missing_values=' ',\n",
              "                                                                                                              strategy='most_frequent')),\n",
              "                                                                                               ('ohe',\n",
              "                                                                                                OneHotEncoder(drop='first'))]),\n",
              "                                                                               ['dept',\n",
              "                                                                                'last_year_promo',\n",
              "                                                                                'last_...\n",
              "                                                               MinMaxScaler(),\n",
              "                                                               RobustScaler(),\n",
              "                                                               'passthrough']},\n",
              "                                        {'model': [DecisionTreeRegressor(random_state=52)],\n",
              "                                         'model__max_depth': range(1, 30),\n",
              "                                         'model__min_samples_leaf': range(1, 30),\n",
              "                                         'model__min_samples_split': range(2, 30),\n",
              "                                         'preprocessor__num': [StandardScaler(),\n",
              "                                                               MinMaxScaler(),\n",
              "                                                               RobustScaler(),\n",
              "                                                               'passthrough']}],\n",
              "                   random_state=52,\n",
              "                   scoring=make_scorer(smape, greater_is_better=False))"
            ]
          },
          "execution_count": 34,
          "metadata": {},
          "output_type": "execute_result"
        }
      ],
      "source": [
        "randomized_search.fit(X_train, y_train)"
      ]
    },
    {
      "cell_type": "code",
      "execution_count": null,
      "metadata": {
        "id": "khjQgfGsuw4B",
        "pycharm": {
          "name": "#%%\n"
        }
      },
      "outputs": [],
      "source": [
        "model = randomized_search.best_estimator_"
      ]
    },
    {
      "cell_type": "code",
      "execution_count": null,
      "metadata": {
        "colab": {
          "base_uri": "https://localhost:8080/",
          "height": 260
        },
        "id": "LEI7h2oJ3Ng3",
        "outputId": "9c53131f-0f3d-4e95-ec9f-3ad5bf942064",
        "pycharm": {
          "name": "#%%\n"
        }
      },
      "outputs": [
        {
          "data": {
            "text/plain": [
              "Pipeline(steps=[('preprocessor',\n",
              "                 ColumnTransformer(remainder='passthrough',\n",
              "                                   transformers=[('ohe',\n",
              "                                                  Pipeline(steps=[('SimpleImputer_ohe',\n",
              "                                                                   SimpleImputer(strategy='most_frequent')),\n",
              "                                                                  ('SimpleImputer_2',\n",
              "                                                                   SimpleImputer(missing_values=' ',\n",
              "                                                                                 strategy='most_frequent')),\n",
              "                                                                  ('ohe',\n",
              "                                                                   OneHotEncoder(drop='first'))]),\n",
              "                                                  ['dept', 'last_year_promo',\n",
              "                                                   'last_year_violations']),\n",
              "                                                 ('ord',\n",
              "                                                  Pip...\n",
              "                                                                   OrdinalEncoder(handle_unknown='use_encoded_value',\n",
              "                                                                                  unknown_value=nan)),\n",
              "                                                                  ('SimpleImputer_aOE',\n",
              "                                                                   SimpleImputer(strategy='most_frequent'))]),\n",
              "                                                  ['level', 'workload']),\n",
              "                                                 ('num', 'passthrough',\n",
              "                                                  Index(['employment_years', 'supervisor_evaluation', 'salary'], dtype='object'))])),\n",
              "                ('model',\n",
              "                 GradientBoostingRegressor(max_depth=16, min_samples_leaf=24,\n",
              "                                           min_samples_split=12,\n",
              "                                           n_estimators=240))])"
            ]
          },
          "execution_count": 36,
          "metadata": {},
          "output_type": "execute_result"
        }
      ],
      "source": [
        "model"
      ]
    },
    {
      "cell_type": "code",
      "execution_count": null,
      "metadata": {
        "id": "yxJStZ78_Pef",
        "outputId": "7072eaee-49ed-4121-fc9d-6bd125e18c04"
      },
      "outputs": [
        {
          "data": {
            "text/plain": [
              "-12.093799828729573"
            ]
          },
          "execution_count": 37,
          "metadata": {},
          "output_type": "execute_result"
        }
      ],
      "source": [
        "randomized_search.best_score_"
      ]
    },
    {
      "cell_type": "code",
      "execution_count": null,
      "metadata": {
        "colab": {
          "base_uri": "https://localhost:8080/"
        },
        "id": "NeZPimM_u5v7",
        "outputId": "2ac31bfb-2de0-444b-86ae-dad5d5ab3966",
        "pycharm": {
          "name": "#%%\n"
        },
        "tags": []
      },
      "outputs": [
        {
          "data": {
            "text/plain": [
              "11.265713870905124"
            ]
          },
          "execution_count": 38,
          "metadata": {},
          "output_type": "execute_result"
        }
      ],
      "source": [
        "y_pred = model.predict(df_test.drop('job_satisfaction_rate', axis = 1))\n",
        "smape(df_test['job_satisfaction_rate'], y_pred)"
      ]
    },
    {
      "cell_type": "markdown",
      "metadata": {
        "id": "EPQgjIadEHJ7",
        "pycharm": {
          "name": "#%% md\n"
        }
      },
      "source": [
        "### Вывод\n",
        "\n",
        "**Лучше всего себя показал градиентный бустинг. SMAPE 11.27**"
      ]
    },
    {
      "cell_type": "markdown",
      "metadata": {
        "id": "jkzSJuDCFE68",
        "pycharm": {
          "name": "#%% md\n"
        }
      },
      "source": [
        "# Предсказание ухода сотрудника из компании\n",
        "**Создание модели классификации**\n",
        "\n",
        "`Целевая метрика ROC-AUC >=91`"
      ]
    },
    {
      "cell_type": "markdown",
      "metadata": {
        "id": "WrxATWKPxkF3",
        "pycharm": {
          "name": "#%% md\n"
        }
      },
      "source": [
        "## Загрузка данных"
      ]
    },
    {
      "cell_type": "code",
      "execution_count": null,
      "metadata": {
        "id": "v8F06ftC2fdM",
        "pycharm": {
          "name": "#%%\n"
        }
      },
      "outputs": [],
      "source": [
        "df_train = pd.read_csv('https://code.s3.yandex.net/datasets/train_quit.csv').set_index('id')"
      ]
    },
    {
      "cell_type": "code",
      "execution_count": null,
      "metadata": {
        "id": "SyYJooomrus7",
        "pycharm": {
          "name": "#%%\n"
        }
      },
      "outputs": [],
      "source": [
        "df_test1 = pd.read_csv('https://code.s3.yandex.net/datasets/test_target_quit.csv').set_index('id')"
      ]
    },
    {
      "cell_type": "code",
      "execution_count": null,
      "metadata": {
        "id": "tSMeAzqjs11G",
        "pycharm": {
          "name": "#%%\n"
        }
      },
      "outputs": [],
      "source": [
        "df_test = df_test.join(df_test1, how = 'inner')"
      ]
    },
    {
      "cell_type": "code",
      "execution_count": null,
      "metadata": {
        "colab": {
          "base_uri": "https://localhost:8080/",
          "height": 455
        },
        "id": "PokUuQSUwqye",
        "outputId": "3c7f4f3e-537b-4ba8-d4e9-6ebe78210b09",
        "pycharm": {
          "name": "#%%\n"
        }
      },
      "outputs": [
        {
          "data": {
            "text/html": [
              "<div>\n",
              "<style scoped>\n",
              "    .dataframe tbody tr th:only-of-type {\n",
              "        vertical-align: middle;\n",
              "    }\n",
              "\n",
              "    .dataframe tbody tr th {\n",
              "        vertical-align: top;\n",
              "    }\n",
              "\n",
              "    .dataframe thead th {\n",
              "        text-align: right;\n",
              "    }\n",
              "</style>\n",
              "<table border=\"1\" class=\"dataframe\">\n",
              "  <thead>\n",
              "    <tr style=\"text-align: right;\">\n",
              "      <th></th>\n",
              "      <th>dept</th>\n",
              "      <th>level</th>\n",
              "      <th>workload</th>\n",
              "      <th>employment_years</th>\n",
              "      <th>last_year_promo</th>\n",
              "      <th>last_year_violations</th>\n",
              "      <th>supervisor_evaluation</th>\n",
              "      <th>salary</th>\n",
              "      <th>job_satisfaction_rate</th>\n",
              "      <th>quit</th>\n",
              "    </tr>\n",
              "    <tr>\n",
              "      <th>id</th>\n",
              "      <th></th>\n",
              "      <th></th>\n",
              "      <th></th>\n",
              "      <th></th>\n",
              "      <th></th>\n",
              "      <th></th>\n",
              "      <th></th>\n",
              "      <th></th>\n",
              "      <th></th>\n",
              "      <th></th>\n",
              "    </tr>\n",
              "  </thead>\n",
              "  <tbody>\n",
              "    <tr>\n",
              "      <th>485046</th>\n",
              "      <td>marketing</td>\n",
              "      <td>junior</td>\n",
              "      <td>medium</td>\n",
              "      <td>2</td>\n",
              "      <td>no</td>\n",
              "      <td>no</td>\n",
              "      <td>5</td>\n",
              "      <td>28800</td>\n",
              "      <td>0.79</td>\n",
              "      <td>no</td>\n",
              "    </tr>\n",
              "    <tr>\n",
              "      <th>686555</th>\n",
              "      <td>hr</td>\n",
              "      <td>junior</td>\n",
              "      <td>medium</td>\n",
              "      <td>1</td>\n",
              "      <td>no</td>\n",
              "      <td>no</td>\n",
              "      <td>4</td>\n",
              "      <td>30000</td>\n",
              "      <td>0.72</td>\n",
              "      <td>no</td>\n",
              "    </tr>\n",
              "    <tr>\n",
              "      <th>467458</th>\n",
              "      <td>sales</td>\n",
              "      <td>middle</td>\n",
              "      <td>low</td>\n",
              "      <td>5</td>\n",
              "      <td>no</td>\n",
              "      <td>no</td>\n",
              "      <td>4</td>\n",
              "      <td>19200</td>\n",
              "      <td>0.64</td>\n",
              "      <td>no</td>\n",
              "    </tr>\n",
              "    <tr>\n",
              "      <th>418655</th>\n",
              "      <td>sales</td>\n",
              "      <td>middle</td>\n",
              "      <td>low</td>\n",
              "      <td>6</td>\n",
              "      <td>no</td>\n",
              "      <td>no</td>\n",
              "      <td>4</td>\n",
              "      <td>19200</td>\n",
              "      <td>0.60</td>\n",
              "      <td>no</td>\n",
              "    </tr>\n",
              "    <tr>\n",
              "      <th>789145</th>\n",
              "      <td>hr</td>\n",
              "      <td>middle</td>\n",
              "      <td>medium</td>\n",
              "      <td>5</td>\n",
              "      <td>no</td>\n",
              "      <td>no</td>\n",
              "      <td>5</td>\n",
              "      <td>40800</td>\n",
              "      <td>0.75</td>\n",
              "      <td>no</td>\n",
              "    </tr>\n",
              "    <tr>\n",
              "      <th>...</th>\n",
              "      <td>...</td>\n",
              "      <td>...</td>\n",
              "      <td>...</td>\n",
              "      <td>...</td>\n",
              "      <td>...</td>\n",
              "      <td>...</td>\n",
              "      <td>...</td>\n",
              "      <td>...</td>\n",
              "      <td>...</td>\n",
              "      <td>...</td>\n",
              "    </tr>\n",
              "    <tr>\n",
              "      <th>497976</th>\n",
              "      <td>technology</td>\n",
              "      <td>middle</td>\n",
              "      <td>medium</td>\n",
              "      <td>3</td>\n",
              "      <td>no</td>\n",
              "      <td>no</td>\n",
              "      <td>4</td>\n",
              "      <td>52800</td>\n",
              "      <td>0.70</td>\n",
              "      <td>no</td>\n",
              "    </tr>\n",
              "    <tr>\n",
              "      <th>393147</th>\n",
              "      <td>marketing</td>\n",
              "      <td>junior</td>\n",
              "      <td>low</td>\n",
              "      <td>3</td>\n",
              "      <td>no</td>\n",
              "      <td>no</td>\n",
              "      <td>3</td>\n",
              "      <td>20400</td>\n",
              "      <td>0.56</td>\n",
              "      <td>yes</td>\n",
              "    </tr>\n",
              "    <tr>\n",
              "      <th>109582</th>\n",
              "      <td>technology</td>\n",
              "      <td>middle</td>\n",
              "      <td>low</td>\n",
              "      <td>3</td>\n",
              "      <td>no</td>\n",
              "      <td>no</td>\n",
              "      <td>2</td>\n",
              "      <td>21600</td>\n",
              "      <td>0.14</td>\n",
              "      <td>yes</td>\n",
              "    </tr>\n",
              "    <tr>\n",
              "      <th>160233</th>\n",
              "      <td>technology</td>\n",
              "      <td>middle</td>\n",
              "      <td>low</td>\n",
              "      <td>8</td>\n",
              "      <td>no</td>\n",
              "      <td>no</td>\n",
              "      <td>1</td>\n",
              "      <td>32400</td>\n",
              "      <td>0.43</td>\n",
              "      <td>no</td>\n",
              "    </tr>\n",
              "    <tr>\n",
              "      <th>771859</th>\n",
              "      <td>purchasing</td>\n",
              "      <td>middle</td>\n",
              "      <td>medium</td>\n",
              "      <td>1</td>\n",
              "      <td>no</td>\n",
              "      <td>no</td>\n",
              "      <td>4</td>\n",
              "      <td>38400</td>\n",
              "      <td>0.67</td>\n",
              "      <td>no</td>\n",
              "    </tr>\n",
              "  </tbody>\n",
              "</table>\n",
              "<p>1917 rows × 10 columns</p>\n",
              "</div>"
            ],
            "text/plain": [
              "              dept   level workload  employment_years last_year_promo  \\\n",
              "id                                                                      \n",
              "485046   marketing  junior   medium                 2              no   \n",
              "686555          hr  junior   medium                 1              no   \n",
              "467458       sales  middle      low                 5              no   \n",
              "418655       sales  middle      low                 6              no   \n",
              "789145          hr  middle   medium                 5              no   \n",
              "...            ...     ...      ...               ...             ...   \n",
              "497976  technology  middle   medium                 3              no   \n",
              "393147   marketing  junior      low                 3              no   \n",
              "109582  technology  middle      low                 3              no   \n",
              "160233  technology  middle      low                 8              no   \n",
              "771859  purchasing  middle   medium                 1              no   \n",
              "\n",
              "       last_year_violations  supervisor_evaluation  salary  \\\n",
              "id                                                           \n",
              "485046                   no                      5   28800   \n",
              "686555                   no                      4   30000   \n",
              "467458                   no                      4   19200   \n",
              "418655                   no                      4   19200   \n",
              "789145                   no                      5   40800   \n",
              "...                     ...                    ...     ...   \n",
              "497976                   no                      4   52800   \n",
              "393147                   no                      3   20400   \n",
              "109582                   no                      2   21600   \n",
              "160233                   no                      1   32400   \n",
              "771859                   no                      4   38400   \n",
              "\n",
              "        job_satisfaction_rate quit  \n",
              "id                                  \n",
              "485046                   0.79   no  \n",
              "686555                   0.72   no  \n",
              "467458                   0.64   no  \n",
              "418655                   0.60   no  \n",
              "789145                   0.75   no  \n",
              "...                       ...  ...  \n",
              "497976                   0.70   no  \n",
              "393147                   0.56  yes  \n",
              "109582                   0.14  yes  \n",
              "160233                   0.43   no  \n",
              "771859                   0.67   no  \n",
              "\n",
              "[1917 rows x 10 columns]"
            ]
          },
          "execution_count": 42,
          "metadata": {},
          "output_type": "execute_result"
        }
      ],
      "source": [
        "df_test"
      ]
    },
    {
      "cell_type": "code",
      "execution_count": null,
      "metadata": {
        "colab": {
          "base_uri": "https://localhost:8080/",
          "height": 455
        },
        "id": "eulawkIAwrtF",
        "outputId": "95bbdc1a-d0e6-4048-e492-f9d782a2b936",
        "pycharm": {
          "name": "#%%\n"
        }
      },
      "outputs": [
        {
          "data": {
            "text/html": [
              "<div>\n",
              "<style scoped>\n",
              "    .dataframe tbody tr th:only-of-type {\n",
              "        vertical-align: middle;\n",
              "    }\n",
              "\n",
              "    .dataframe tbody tr th {\n",
              "        vertical-align: top;\n",
              "    }\n",
              "\n",
              "    .dataframe thead th {\n",
              "        text-align: right;\n",
              "    }\n",
              "</style>\n",
              "<table border=\"1\" class=\"dataframe\">\n",
              "  <thead>\n",
              "    <tr style=\"text-align: right;\">\n",
              "      <th></th>\n",
              "      <th>dept</th>\n",
              "      <th>level</th>\n",
              "      <th>workload</th>\n",
              "      <th>employment_years</th>\n",
              "      <th>last_year_promo</th>\n",
              "      <th>last_year_violations</th>\n",
              "      <th>supervisor_evaluation</th>\n",
              "      <th>salary</th>\n",
              "      <th>quit</th>\n",
              "    </tr>\n",
              "    <tr>\n",
              "      <th>id</th>\n",
              "      <th></th>\n",
              "      <th></th>\n",
              "      <th></th>\n",
              "      <th></th>\n",
              "      <th></th>\n",
              "      <th></th>\n",
              "      <th></th>\n",
              "      <th></th>\n",
              "      <th></th>\n",
              "    </tr>\n",
              "  </thead>\n",
              "  <tbody>\n",
              "    <tr>\n",
              "      <th>723290</th>\n",
              "      <td>sales</td>\n",
              "      <td>middle</td>\n",
              "      <td>high</td>\n",
              "      <td>2</td>\n",
              "      <td>no</td>\n",
              "      <td>no</td>\n",
              "      <td>4</td>\n",
              "      <td>54000</td>\n",
              "      <td>no</td>\n",
              "    </tr>\n",
              "    <tr>\n",
              "      <th>814010</th>\n",
              "      <td>sales</td>\n",
              "      <td>junior</td>\n",
              "      <td>medium</td>\n",
              "      <td>2</td>\n",
              "      <td>no</td>\n",
              "      <td>no</td>\n",
              "      <td>4</td>\n",
              "      <td>27600</td>\n",
              "      <td>no</td>\n",
              "    </tr>\n",
              "    <tr>\n",
              "      <th>155091</th>\n",
              "      <td>purchasing</td>\n",
              "      <td>middle</td>\n",
              "      <td>medium</td>\n",
              "      <td>5</td>\n",
              "      <td>no</td>\n",
              "      <td>no</td>\n",
              "      <td>1</td>\n",
              "      <td>37200</td>\n",
              "      <td>no</td>\n",
              "    </tr>\n",
              "    <tr>\n",
              "      <th>257132</th>\n",
              "      <td>sales</td>\n",
              "      <td>junior</td>\n",
              "      <td>medium</td>\n",
              "      <td>2</td>\n",
              "      <td>no</td>\n",
              "      <td>yes</td>\n",
              "      <td>3</td>\n",
              "      <td>24000</td>\n",
              "      <td>yes</td>\n",
              "    </tr>\n",
              "    <tr>\n",
              "      <th>910140</th>\n",
              "      <td>marketing</td>\n",
              "      <td>junior</td>\n",
              "      <td>medium</td>\n",
              "      <td>2</td>\n",
              "      <td>no</td>\n",
              "      <td>no</td>\n",
              "      <td>5</td>\n",
              "      <td>25200</td>\n",
              "      <td>no</td>\n",
              "    </tr>\n",
              "    <tr>\n",
              "      <th>...</th>\n",
              "      <td>...</td>\n",
              "      <td>...</td>\n",
              "      <td>...</td>\n",
              "      <td>...</td>\n",
              "      <td>...</td>\n",
              "      <td>...</td>\n",
              "      <td>...</td>\n",
              "      <td>...</td>\n",
              "      <td>...</td>\n",
              "    </tr>\n",
              "    <tr>\n",
              "      <th>588809</th>\n",
              "      <td>sales</td>\n",
              "      <td>junior</td>\n",
              "      <td>medium</td>\n",
              "      <td>4</td>\n",
              "      <td>no</td>\n",
              "      <td>no</td>\n",
              "      <td>3</td>\n",
              "      <td>26400</td>\n",
              "      <td>no</td>\n",
              "    </tr>\n",
              "    <tr>\n",
              "      <th>672059</th>\n",
              "      <td>sales</td>\n",
              "      <td>middle</td>\n",
              "      <td>high</td>\n",
              "      <td>9</td>\n",
              "      <td>no</td>\n",
              "      <td>no</td>\n",
              "      <td>4</td>\n",
              "      <td>52800</td>\n",
              "      <td>no</td>\n",
              "    </tr>\n",
              "    <tr>\n",
              "      <th>536432</th>\n",
              "      <td>purchasing</td>\n",
              "      <td>junior</td>\n",
              "      <td>low</td>\n",
              "      <td>2</td>\n",
              "      <td>no</td>\n",
              "      <td>yes</td>\n",
              "      <td>4</td>\n",
              "      <td>12000</td>\n",
              "      <td>yes</td>\n",
              "    </tr>\n",
              "    <tr>\n",
              "      <th>692133</th>\n",
              "      <td>purchasing</td>\n",
              "      <td>middle</td>\n",
              "      <td>medium</td>\n",
              "      <td>2</td>\n",
              "      <td>no</td>\n",
              "      <td>no</td>\n",
              "      <td>4</td>\n",
              "      <td>33600</td>\n",
              "      <td>no</td>\n",
              "    </tr>\n",
              "    <tr>\n",
              "      <th>853842</th>\n",
              "      <td>sales</td>\n",
              "      <td>junior</td>\n",
              "      <td>medium</td>\n",
              "      <td>2</td>\n",
              "      <td>no</td>\n",
              "      <td>no</td>\n",
              "      <td>3</td>\n",
              "      <td>27600</td>\n",
              "      <td>yes</td>\n",
              "    </tr>\n",
              "  </tbody>\n",
              "</table>\n",
              "<p>4000 rows × 9 columns</p>\n",
              "</div>"
            ],
            "text/plain": [
              "              dept   level workload  employment_years last_year_promo  \\\n",
              "id                                                                      \n",
              "723290       sales  middle     high                 2              no   \n",
              "814010       sales  junior   medium                 2              no   \n",
              "155091  purchasing  middle   medium                 5              no   \n",
              "257132       sales  junior   medium                 2              no   \n",
              "910140   marketing  junior   medium                 2              no   \n",
              "...            ...     ...      ...               ...             ...   \n",
              "588809       sales  junior   medium                 4              no   \n",
              "672059       sales  middle     high                 9              no   \n",
              "536432  purchasing  junior      low                 2              no   \n",
              "692133  purchasing  middle   medium                 2              no   \n",
              "853842       sales  junior   medium                 2              no   \n",
              "\n",
              "       last_year_violations  supervisor_evaluation  salary quit  \n",
              "id                                                               \n",
              "723290                   no                      4   54000   no  \n",
              "814010                   no                      4   27600   no  \n",
              "155091                   no                      1   37200   no  \n",
              "257132                  yes                      3   24000  yes  \n",
              "910140                   no                      5   25200   no  \n",
              "...                     ...                    ...     ...  ...  \n",
              "588809                   no                      3   26400   no  \n",
              "672059                   no                      4   52800   no  \n",
              "536432                  yes                      4   12000  yes  \n",
              "692133                   no                      4   33600   no  \n",
              "853842                   no                      3   27600  yes  \n",
              "\n",
              "[4000 rows x 9 columns]"
            ]
          },
          "execution_count": 43,
          "metadata": {},
          "output_type": "execute_result"
        }
      ],
      "source": [
        "df_train"
      ]
    },
    {
      "cell_type": "code",
      "execution_count": null,
      "metadata": {
        "colab": {
          "base_uri": "https://localhost:8080/"
        },
        "id": "DDbiXf431QqP",
        "outputId": "e4703906-8df1-46c7-a41c-4d2a1e888527",
        "pycharm": {
          "name": "#%%\n"
        }
      },
      "outputs": [
        {
          "name": "stdout",
          "output_type": "stream",
          "text": [
            "<class 'pandas.core.frame.DataFrame'>\n",
            "Int64Index: 4000 entries, 723290 to 853842\n",
            "Data columns (total 9 columns):\n",
            " #   Column                 Non-Null Count  Dtype \n",
            "---  ------                 --------------  ----- \n",
            " 0   dept                   4000 non-null   object\n",
            " 1   level                  4000 non-null   object\n",
            " 2   workload               4000 non-null   object\n",
            " 3   employment_years       4000 non-null   int64 \n",
            " 4   last_year_promo        4000 non-null   object\n",
            " 5   last_year_violations   4000 non-null   object\n",
            " 6   supervisor_evaluation  4000 non-null   int64 \n",
            " 7   salary                 4000 non-null   int64 \n",
            " 8   quit                   4000 non-null   object\n",
            "dtypes: int64(3), object(6)\n",
            "memory usage: 312.5+ KB\n"
          ]
        }
      ],
      "source": [
        "df_train.info()"
      ]
    },
    {
      "cell_type": "code",
      "execution_count": null,
      "metadata": {
        "colab": {
          "base_uri": "https://localhost:8080/"
        },
        "id": "E4KViSik2Cfa",
        "outputId": "888324f7-0c26-470e-a0fb-0168de349b17",
        "pycharm": {
          "name": "#%%\n"
        }
      },
      "outputs": [
        {
          "name": "stdout",
          "output_type": "stream",
          "text": [
            "<class 'pandas.core.frame.DataFrame'>\n",
            "Int64Index: 1917 entries, 485046 to 771859\n",
            "Data columns (total 10 columns):\n",
            " #   Column                 Non-Null Count  Dtype  \n",
            "---  ------                 --------------  -----  \n",
            " 0   dept                   1915 non-null   object \n",
            " 1   level                  1916 non-null   object \n",
            " 2   workload               1917 non-null   object \n",
            " 3   employment_years       1917 non-null   int64  \n",
            " 4   last_year_promo        1917 non-null   object \n",
            " 5   last_year_violations   1917 non-null   object \n",
            " 6   supervisor_evaluation  1917 non-null   int64  \n",
            " 7   salary                 1917 non-null   int64  \n",
            " 8   job_satisfaction_rate  1917 non-null   float64\n",
            " 9   quit                   1917 non-null   object \n",
            "dtypes: float64(1), int64(3), object(6)\n",
            "memory usage: 164.7+ KB\n"
          ]
        }
      ],
      "source": [
        "df_test.info()"
      ]
    },
    {
      "cell_type": "markdown",
      "metadata": {
        "id": "IgygyLt-_Peh"
      },
      "source": [
        "### Вывод\n",
        "\n",
        "**В данных есть Nan, для удобства создана таблица df_test с входным и целевым признаками для тестирования модели. Стандартизация имён столлбцов не требуется.**"
      ]
    },
    {
      "cell_type": "markdown",
      "metadata": {
        "id": "AdjgsVH514xa",
        "pycharm": {
          "name": "#%% md\n"
        }
      },
      "source": [
        "### Предобработка"
      ]
    },
    {
      "cell_type": "code",
      "execution_count": null,
      "metadata": {
        "colab": {
          "base_uri": "https://localhost:8080/"
        },
        "id": "D8qFJUEM2Fke",
        "outputId": "8d1ede8a-2419-4ce9-b138-a2cf7e5b752b",
        "pycharm": {
          "name": "#%%\n"
        }
      },
      "outputs": [
        {
          "data": {
            "text/plain": [
              "1413"
            ]
          },
          "execution_count": 46,
          "metadata": {},
          "output_type": "execute_result"
        }
      ],
      "source": [
        "df_train.duplicated().sum()"
      ]
    },
    {
      "cell_type": "code",
      "execution_count": null,
      "metadata": {
        "colab": {
          "base_uri": "https://localhost:8080/"
        },
        "id": "Q6IK_FyY2dhc",
        "outputId": "ba9582b0-f5c7-4f37-97c9-27ddd013006f",
        "pycharm": {
          "name": "#%%\n"
        }
      },
      "outputs": [
        {
          "data": {
            "text/plain": [
              "0"
            ]
          },
          "execution_count": 47,
          "metadata": {},
          "output_type": "execute_result"
        }
      ],
      "source": [
        "df_test.duplicated().sum()"
      ]
    },
    {
      "cell_type": "code",
      "execution_count": null,
      "metadata": {
        "id": "dWZPkJYf_Pei"
      },
      "outputs": [],
      "source": [
        "df_train = df_train.drop_duplicates()"
      ]
    },
    {
      "cell_type": "markdown",
      "metadata": {
        "id": "1t2tkP6r2ntj",
        "pycharm": {
          "name": "#%% md\n"
        }
      },
      "source": [
        "### Вывод\n",
        "\n",
        "**Дубликаты удалены, Nan будут удалены позже в пайплайне.**"
      ]
    },
    {
      "cell_type": "markdown",
      "metadata": {
        "id": "SwtnnEoj25Hi",
        "pycharm": {
          "name": "#%% md\n"
        }
      },
      "source": [
        "## Исследовательский анализ"
      ]
    },
    {
      "cell_type": "markdown",
      "metadata": {
        "id": "f1XQIqje3Bzh",
        "pycharm": {
          "name": "#%% md\n"
        }
      },
      "source": [
        "### Численные признаки"
      ]
    },
    {
      "cell_type": "code",
      "execution_count": null,
      "metadata": {
        "colab": {
          "base_uri": "https://localhost:8080/",
          "height": 1000
        },
        "id": "ATcdUCDw27T1",
        "outputId": "1486b117-9509-4f33-8710-0a5941c4b5bf",
        "pycharm": {
          "name": "#%%\n"
        }
      },
      "outputs": [
        {
          "data": {
            "image/png": "[encoded data removed]",
            "text/plain": [
              "<Figure size 432x288 with 2 Axes>"
            ]
          },
          "metadata": {
            "needs_background": "light"
          },
          "output_type": "display_data"
        },
        {
          "name": "stdout",
          "output_type": "stream",
          "text": [
            "count    2587.000000\n",
            "mean        4.213375\n",
            "std         2.601105\n",
            "min         1.000000\n",
            "25%         2.000000\n",
            "50%         4.000000\n",
            "75%         6.000000\n",
            "max        10.000000\n",
            "Name: employment_years, dtype: float64\n"
          ]
        },
        {
          "data": {
            "image/png": "[encoded data removed]",
            "text/plain": [
              "<Figure size 432x288 with 2 Axes>"
            ]
          },
          "metadata": {
            "needs_background": "light"
          },
          "output_type": "display_data"
        },
        {
          "name": "stdout",
          "output_type": "stream",
          "text": [
            "count    2587.000000\n",
            "mean        3.367994\n",
            "std         1.080243\n",
            "min         1.000000\n",
            "25%         3.000000\n",
            "50%         3.000000\n",
            "75%         4.000000\n",
            "max         5.000000\n",
            "Name: supervisor_evaluation, dtype: float64\n"
          ]
        },
        {
          "data": {
            "image/png": "[encoded data removed]",
            "text/plain": [
              "<Figure size 432x288 with 2 Axes>"
            ]
          },
          "metadata": {
            "needs_background": "light"
          },
          "output_type": "display_data"
        },
        {
          "name": "stdout",
          "output_type": "stream",
          "text": [
            "count     2587.000000\n",
            "mean     37107.692308\n",
            "std      16267.354906\n",
            "min      12000.000000\n",
            "25%      24000.000000\n",
            "50%      33600.000000\n",
            "75%      46800.000000\n",
            "max      96000.000000\n",
            "Name: salary, dtype: float64\n"
          ]
        }
      ],
      "source": [
        "for i in df_train.columns:\n",
        "    numgraph(df_train[i])"
      ]
    },
    {
      "cell_type": "markdown",
      "metadata": {
        "id": "p_ciCXrC3fur",
        "pycharm": {
          "name": "#%% md\n"
        }
      },
      "source": [
        "**В основном, признаки распределены ненормально, для корр. анализа следует использовать $\\phi_K$.**"
      ]
    },
    {
      "cell_type": "markdown",
      "metadata": {
        "id": "jsWiSdfD3KtV",
        "pycharm": {
          "name": "#%% md\n"
        }
      },
      "source": [
        "### Категориальные признаки"
      ]
    },
    {
      "cell_type": "code",
      "execution_count": null,
      "metadata": {
        "colab": {
          "base_uri": "https://localhost:8080/",
          "height": 1000
        },
        "id": "vwi3EbwL3HlI",
        "outputId": "b9780650-f5a3-46c1-95af-5564442cc067",
        "pycharm": {
          "name": "#%%\n"
        },
        "tags": []
      },
      "outputs": [
        {
          "data": {
            "image/png": "[encoded data removed]",
            "text/plain": [
              "<Figure size 720x360 with 2 Axes>"
            ]
          },
          "metadata": {
            "needs_background": "light"
          },
          "output_type": "display_data"
        },
        {
          "data": {
            "image/png": "[encoded data removed]",
            "text/plain": [
              "<Figure size 720x360 with 2 Axes>"
            ]
          },
          "metadata": {
            "needs_background": "light"
          },
          "output_type": "display_data"
        },
        {
          "data": {
            "image/png": "[encoded data removed]",
            "text/plain": [
              "<Figure size 720x360 with 2 Axes>"
            ]
          },
          "metadata": {
            "needs_background": "light"
          },
          "output_type": "display_data"
        },
        {
          "data": {
            "image/png": "[encoded data removed]",
            "text/plain": [
              "<Figure size 720x360 with 2 Axes>"
            ]
          },
          "metadata": {
            "needs_background": "light"
          },
          "output_type": "display_data"
        },
        {
          "data": {
            "image/png": "[encoded data removed]",
            "text/plain": [
              "<Figure size 720x360 with 2 Axes>"
            ]
          },
          "metadata": {
            "needs_background": "light"
          },
          "output_type": "display_data"
        },
        {
          "data": {
            "image/png": "[encoded data removed]",
            "text/plain": [
              "<Figure size 720x360 with 2 Axes>"
            ]
          },
          "metadata": {
            "needs_background": "light"
          },
          "output_type": "display_data"
        }
      ],
      "source": [
        "for i in df_train.select_dtypes(include = 'object').columns:\n",
        "        catgraph(df_train, df_train[i])"
      ]
    },
    {
      "cell_type": "markdown",
      "metadata": {
        "id": "QRvz0BrS4Nu4",
        "pycharm": {
          "name": "#%% md\n"
        }
      },
      "source": [
        "**Есть дисбаланс классов, уместно использовать ROC-AUC для оценки модели.**"
      ]
    },
    {
      "cell_type": "markdown",
      "metadata": {
        "id": "0KG-HePl4hHF",
        "pycharm": {
          "name": "#%% md\n"
        }
      },
      "source": [
        "### Портрет «уволившегося сотрудника»"
      ]
    },
    {
      "cell_type": "code",
      "execution_count": null,
      "metadata": {
        "colab": {
          "base_uri": "https://localhost:8080/",
          "height": 1000
        },
        "id": "IKEymfOv3NoI",
        "outputId": "0bc7f1bd-0e35-4166-c459-62a907e043a3",
        "pycharm": {
          "name": "#%%\n"
        },
        "tags": []
      },
      "outputs": [
        {
          "data": {
            "image/png": "[encoded data removed]",
            "text/plain": [
              "<Figure size 720x360 with 2 Axes>"
            ]
          },
          "metadata": {
            "needs_background": "light"
          },
          "output_type": "display_data"
        },
        {
          "data": {
            "image/png": "[encoded data removed]",
            "text/plain": [
              "<Figure size 720x360 with 2 Axes>"
            ]
          },
          "metadata": {
            "needs_background": "light"
          },
          "output_type": "display_data"
        },
        {
          "data": {
            "image/png": "[encoded data removed]",
            "text/plain": [
              "<Figure size 720x360 with 2 Axes>"
            ]
          },
          "metadata": {
            "needs_background": "light"
          },
          "output_type": "display_data"
        },
        {
          "data": {
            "image/png": "[encoded data removed]",
            "text/plain": [
              "<Figure size 720x360 with 2 Axes>"
            ]
          },
          "metadata": {
            "needs_background": "light"
          },
          "output_type": "display_data"
        },
        {
          "data": {
            "image/png": "[encoded data removed]",
            "text/plain": [
              "<Figure size 720x360 with 2 Axes>"
            ]
          },
          "metadata": {
            "needs_background": "light"
          },
          "output_type": "display_data"
        },
        {
          "data": {
            "image/png": "[encoded data removed]",
            "text/plain": [
              "<Figure size 720x360 with 2 Axes>"
            ]
          },
          "metadata": {
            "needs_background": "light"
          },
          "output_type": "display_data"
        }
      ],
      "source": [
        "for i in df_train.select_dtypes(include = 'object').columns:\n",
        "        catgraph(df_train[df_train['quit'] == 'yes'], df_train[i])"
      ]
    },
    {
      "cell_type": "markdown",
      "metadata": {
        "id": "KM_vFute5IRb",
        "pycharm": {
          "name": "#%% md\n"
        }
      },
      "source": [
        "**Уходят больше всего из отделов 'sales' и 'technology', на что следует обратить внимание. Самое же интересное, что уходят в основном младшие позиции с низкой и средней загрузкой, не получавшие повышений за год. Вероятно, причиной ухода в основном становится отсутствие возможностей карьерного роста ввиду нехватки задач.**"
      ]
    },
    {
      "cell_type": "code",
      "execution_count": null,
      "metadata": {
        "colab": {
          "base_uri": "https://localhost:8080/",
          "height": 466
        },
        "id": "OYrQ16Ks6mD1",
        "outputId": "2c3c2a19-1807-43b7-ee93-0eac753e9a07",
        "pycharm": {
          "name": "#%%\n"
        }
      },
      "outputs": [
        {
          "data": {
            "text/plain": [
              "<matplotlib.legend.Legend at 0x1cfa73aad60>"
            ]
          },
          "execution_count": 52,
          "metadata": {},
          "output_type": "execute_result"
        },
        {
          "data": {
            "image/png": "[encoded data removed]",
            "text/plain": [
              "<Figure size 432x288 with 1 Axes>"
            ]
          },
          "metadata": {
            "needs_background": "light"
          },
          "output_type": "display_data"
        }
      ],
      "source": [
        "fig = sns.histplot(\n",
        "    df_train['salary']\n",
        "    );\n",
        "\n",
        "fig.axvline(\n",
        "    df_train[df_train['quit'] == 'yes']['salary'].mean(),\n",
        "    color='r',\n",
        "    label = 'среднее ушедших');\n",
        "\n",
        "fig.axvline(\n",
        "    df_train[df_train['quit'] == 'no']['salary'].mean(),\n",
        "    color='g',\n",
        "    label = 'среднее для оставшихся');\n",
        "\n",
        "plt.legend()"
      ]
    },
    {
      "cell_type": "markdown",
      "metadata": {
        "id": "GxyvWDkN7H50",
        "pycharm": {
          "name": "#%% md\n"
        }
      },
      "source": [
        "**Зарплаты ушедших явно в среднем ниже, в купе с прошлым выводом это даёт нам портрет недостаточно загруженного задачами junior/middle сотрудника, который не видит в компании возможностей для карьерного роста, однако имеет амбиции такого рода.**"
      ]
    },
    {
      "cell_type": "code",
      "execution_count": null,
      "metadata": {
        "id": "P2GZbGRI_Pel",
        "outputId": "faa0c250-4d7b-41e5-c39c-5d1815dbf525"
      },
      "outputs": [
        {
          "name": "stdout",
          "output_type": "stream",
          "text": [
            "доля увольнений от 348 сотрудников hr = 23.6%, всего уволилось 82\n",
            "доля увольнений от 423 сотрудников marketing = 26.5%, всего уволилось 112\n",
            "доля увольнений от 430 сотрудников purchasing = 27.9%, всего уволилось 120\n",
            "доля увольнений от 805 сотрудников sales = 23.7%, всего уволилось 191\n",
            "доля увольнений от 581 сотрудников technology = 25.8%, всего уволилось 150\n"
          ]
        }
      ],
      "source": [
        "quit_grouped = df_train.groupby('dept')['quit'].value_counts().unstack().fillna(0)\n",
        "quit_grouped['quit_rate'] = (quit_grouped['yes'] / (quit_grouped['yes'] + quit_grouped['no'])) * 100\n",
        "quit_grouped['sum'] = quit_grouped['yes'] + quit_grouped['no']\n",
        "for dept in quit_grouped.index:\n",
        "    quit_rate = quit_grouped.loc[dept, 'quit_rate']\n",
        "    total_employees = quit_grouped.loc[dept, 'sum']\n",
        "    quit_total = quit_grouped.loc[dept, 'yes']\n",
        "\n",
        "    print(f\"доля увольнений от {total_employees} сотрудников {dept} = {round(quit_rate,1)}%, всего уволилось {quit_total}\")"
      ]
    },
    {
      "cell_type": "markdown",
      "metadata": {
        "id": "-Z9bVy54_Pel"
      },
      "source": [
        "**доля увольнений от 464 сотрудников hr = 25.0%, всего уволилось 464**\n",
        "\n",
        "**доля увольнений от 582 сотрудников marketing = 28.0%, всего уволилось 582**\n",
        "\n",
        "**доля увольнений от 588 сотрудников purchasing = 28.2%, всего уволилось 588**\n",
        "\n",
        "**доля увольнений от 1438 сотрудников sales = 28.3%, всего уволилось 1438**\n",
        "\n",
        "**доля увольнений от 928 сотрудников technology = 29.7%, всего уволилось 928**\n"
      ]
    },
    {
      "cell_type": "code",
      "execution_count": null,
      "metadata": {
        "colab": {
          "base_uri": "https://localhost:8080/",
          "height": 489
        },
        "id": "F7v77KyX7DMO",
        "outputId": "e2d2e860-ffd6-4500-d8e6-1cfd2e9b64a0",
        "pycharm": {
          "name": "#%%\n"
        }
      },
      "outputs": [
        {
          "data": {
            "text/plain": [
              "<matplotlib.legend.Legend at 0x1cfa5f5f2e0>"
            ]
          },
          "execution_count": 54,
          "metadata": {},
          "output_type": "execute_result"
        },
        {
          "data": {
            "image/png": "[encoded data removed]",
            "text/plain": [
              "<Figure size 432x288 with 1 Axes>"
            ]
          },
          "metadata": {
            "needs_background": "light"
          },
          "output_type": "display_data"
        }
      ],
      "source": [
        "fig = sns.histplot(\n",
        "    df_test['job_satisfaction_rate']\n",
        "    );\n",
        "\n",
        "plt.title('удовлетворенность работников')\n",
        "\n",
        "fig.axvline(\n",
        "    df_test[df_test['quit'] == 'yes']['job_satisfaction_rate'].mean(),\n",
        "    color='r',\n",
        "    label = 'среднее ушедших');\n",
        "\n",
        "fig.axvline(\n",
        "    df_test[df_test['quit'] == 'no']['job_satisfaction_rate'].mean(),\n",
        "    color='g',\n",
        "    label = 'среднее для оставшихся');\n",
        "\n",
        "plt.legend()"
      ]
    },
    {
      "cell_type": "markdown",
      "metadata": {
        "id": "ylIl1Of2-YmN",
        "pycharm": {
          "name": "#%% md\n"
        }
      },
      "source": [
        "**Выглядит правдоподобно, чем ниже удволетворённость - тем выше риск ухода. Следует использовать признак 'job_satisfaction_rate' для моделирования.**"
      ]
    },
    {
      "cell_type": "markdown",
      "metadata": {
        "id": "PzpnCmCnUB4u",
        "pycharm": {
          "name": "#%% md\n"
        }
      },
      "source": [
        "## Корреляционный анализ"
      ]
    },
    {
      "cell_type": "code",
      "execution_count": null,
      "metadata": {
        "colab": {
          "base_uri": "https://localhost:8080/",
          "height": 1000
        },
        "id": "MjL7DcMkUHgf",
        "outputId": "7346775f-29c2-4f23-97a4-0417f7a77821",
        "pycharm": {
          "name": "#%%\n"
        }
      },
      "outputs": [
        {
          "data": {
            "image/png": "[encoded data removed]",
            "text/plain": [
              "<Figure size 720x720 with 2 Axes>"
            ]
          },
          "metadata": {
            "needs_background": "light"
          },
          "output_type": "display_data"
        }
      ],
      "source": [
        "# Матрица phik\n",
        "\n",
        "interval_cols = df_test.select_dtypes(exclude = 'object').columns\n",
        "phik_overview = phik_matrix(df_train, interval_cols=interval_cols)\n",
        "\n",
        "plot_correlation_matrix(\n",
        "    phik_overview.values,\n",
        "    x_labels=phik_overview.columns,\n",
        "    y_labels=phik_overview.index,\n",
        "    vmin=0, vmax=1, color_map='Blues',\n",
        "    title=r'correlation $\\phi_K$',\n",
        "    fontsize_factor=1.5,\n",
        "    figsize=(10, 10)\n",
        ")"
      ]
    },
    {
      "cell_type": "markdown",
      "metadata": {
        "id": "lekK0Q9XUair",
        "pycharm": {
          "name": "#%% md\n"
        }
      },
      "source": [
        "**мультиколлинеарности нет.**"
      ]
    },
    {
      "cell_type": "markdown",
      "metadata": {
        "id": "t7Xr3Air_0QG",
        "pycharm": {
          "name": "#%% md\n"
        }
      },
      "source": [
        "## Добавление нового признака"
      ]
    },
    {
      "cell_type": "code",
      "execution_count": null,
      "metadata": {
        "id": "cPmzqlUm9K47",
        "pycharm": {
          "name": "#%%\n"
        },
        "outputId": "123c8200-8334-4f21-f196-2ed46e4d698e"
      },
      "outputs": [
        {
          "name": "stderr",
          "output_type": "stream",
          "text": [
            "\n",
            "A value is trying to be set on a copy of a slice from a DataFrame.\n",
            "Try using .loc[row_indexer,col_indexer] = value instead\n",
            "\n",
            "See the caveats in the documentation: https://pandas.pydata.org/pandas-docs/stable/user_guide/indexing.html#returning-a-view-versus-a-copy\n"
          ]
        }
      ],
      "source": [
        "df_train['job_satisfaction_rate'] = model.predict(df_train.drop('quit', axis = 1))"
      ]
    },
    {
      "cell_type": "markdown",
      "metadata": {
        "id": "kWcEGlmMEI1V",
        "pycharm": {
          "name": "#%% md\n"
        }
      },
      "source": [
        "## Подготовка данных для моделирования"
      ]
    },
    {
      "cell_type": "code",
      "execution_count": null,
      "metadata": {
        "id": "pxCGj2wDEbsF",
        "pycharm": {
          "name": "#%%\n"
        }
      },
      "outputs": [],
      "source": [
        "X_train = df_train.drop('quit', axis = 1)\n",
        "y_train = df_train['quit']"
      ]
    },
    {
      "cell_type": "code",
      "execution_count": null,
      "metadata": {
        "id": "QJOCgXcNEiU-",
        "pycharm": {
          "name": "#%%\n"
        }
      },
      "outputs": [],
      "source": [
        "ord_cols = ['level','workload']\n",
        "ohe_cols = ['dept', 'last_year_promo', 'last_year_violations']\n",
        "num_cols = df_train.select_dtypes(exclude = 'object').columns"
      ]
    },
    {
      "cell_type": "code",
      "execution_count": null,
      "metadata": {
        "id": "0dCVl2El_qTb",
        "pycharm": {
          "name": "#%%\n"
        }
      },
      "outputs": [],
      "source": [
        "ohe_pipe = Pipeline(\n",
        "[\n",
        "    ('SimpleImputer_ohe',\n",
        "    SimpleImputer(missing_values=np.nan, strategy='most_frequent')),\n",
        "    ('SimpleImputer_2',\n",
        "    SimpleImputer(missing_values= ' ', strategy='most_frequent')),\n",
        "    ('ohe',\n",
        "    OneHotEncoder(drop = 'first', handle_unknown='error'))\n",
        "]\n",
        ")\n",
        "ord_pipe = Pipeline(\n",
        "[\n",
        "    ('SimpleImputer_bOE',\n",
        "    SimpleImputer(missing_values = np.nan, strategy ='most_frequent')),\n",
        "    ('OE',\n",
        "    OrdinalEncoder(handle_unknown = 'use_encoded_value', unknown_value = np.nan)),\n",
        "    ('SimpleImputer_aOE',\n",
        "    SimpleImputer(missing_values = np.nan, strategy ='most_frequent'))\n",
        "]\n",
        ")\n",
        "\n",
        "preprocessor = ColumnTransformer(\n",
        "[\n",
        "    ('ohe', ohe_pipe, ohe_cols),\n",
        "    ('ord', ord_pipe, ord_cols),\n",
        "    ('num', StandardScaler(), num_cols)\n",
        "],\n",
        "    remainder='passthrough'\n",
        ")"
      ]
    },
    {
      "cell_type": "code",
      "execution_count": null,
      "metadata": {
        "id": "cHgYOJNdEvQ9",
        "pycharm": {
          "name": "#%%\n"
        }
      },
      "outputs": [],
      "source": [
        "param_grid = [\n",
        "    {\n",
        "        'model' : [KNeighborsClassifier()],\n",
        "        'model__n_neighbors' : range(1,30),\n",
        "        'preprocessor__num' : [StandardScaler(),\n",
        "                           MinMaxScaler(),\n",
        "                           RobustScaler(),\n",
        "                           'passthrough']\n",
        "    },\n",
        "    {\n",
        "        'model' : [DecisionTreeClassifier(random_state = RANDOM_STATE)],\n",
        "        'model__max_depth' : range(1,30),\n",
        "        'model__min_samples_split' : range(2,30),\n",
        "        'model__min_samples_leaf' : range(1,30),\n",
        "        'preprocessor__num' : [StandardScaler(),\n",
        "                           MinMaxScaler(),\n",
        "                           RobustScaler(),\n",
        "                           'passthrough']\n",
        "    },\n",
        "    {\n",
        "        'model' : [LogisticRegression(random_state = RANDOM_STATE)],\n",
        "        'model__C' : range(1,30),\n",
        "        'model__solver' : ['lbfgs', 'liblinear', 'newton-cg', 'newton-cholesky', 'sag', 'saga'],\n",
        "        'preprocessor__num' : [StandardScaler(),\n",
        "                           MinMaxScaler(),\n",
        "                           RobustScaler(),\n",
        "                           'passthrough']\n",
        "    },\n",
        "    {\n",
        "        'model' : [SVC(random_state = RANDOM_STATE, probability= True)],\n",
        "        'model__kernel' : ['poly', 'rbf', 'sigmoid', 'precomputed'],\n",
        "        'model__degree' : range(1,4),\n",
        "        'preprocessor__num' : [StandardScaler(),\n",
        "                           MinMaxScaler(),\n",
        "                           RobustScaler(),\n",
        "                           'passthrough']\n",
        "    }\n",
        "]"
      ]
    },
    {
      "cell_type": "code",
      "execution_count": null,
      "metadata": {
        "id": "81BVgEX4FB0-",
        "pycharm": {
          "name": "#%%\n"
        }
      },
      "outputs": [],
      "source": [
        "full_pipe = Pipeline(\n",
        "[\n",
        "    ('preprocessor', preprocessor),\n",
        "    ('model', LogisticRegression())\n",
        "]\n",
        ")"
      ]
    },
    {
      "cell_type": "code",
      "execution_count": null,
      "metadata": {
        "id": "T1uFdYxyFGlS",
        "pycharm": {
          "name": "#%%\n"
        }
      },
      "outputs": [],
      "source": [
        "randomized_search = RandomizedSearchCV(\n",
        "    full_pipe,\n",
        "    param_distributions=param_grid,\n",
        "    scoring='roc_auc',\n",
        "    random_state=RANDOM_STATE,\n",
        "    n_jobs=-1\n",
        ")"
      ]
    },
    {
      "cell_type": "markdown",
      "metadata": {
        "id": "gyhyJ46KKLZD",
        "pycharm": {
          "name": "#%% md\n"
        }
      },
      "source": [
        "## Обучение моделей"
      ]
    },
    {
      "cell_type": "code",
      "execution_count": null,
      "metadata": {
        "colab": {
          "base_uri": "https://localhost:8080/",
          "height": 286
        },
        "id": "d2wSzCWYFIeI",
        "outputId": "7f13faef-f31f-4bd4-8476-61814a8df90b",
        "pycharm": {
          "name": "#%%\n"
        }
      },
      "outputs": [
        {
          "name": "stderr",
          "output_type": "stream",
          "text": [
            "Unlike other reduction functions (e.g. `skew`, `kurtosis`), the default behavior of `mode` typically preserves the axis it acts along. In SciPy 1.11.0, this behavior will change: the default value of `keepdims` will become False, the `axis` over which the statistic is taken will be eliminated, and the value None will no longer be accepted. Set `keepdims` to True or False to avoid this warning.\n"
          ]
        },
        {
          "data": {
            "text/plain": [
              "RandomizedSearchCV(estimator=Pipeline(steps=[('preprocessor',\n",
              "                                              ColumnTransformer(remainder='passthrough',\n",
              "                                                                transformers=[('ohe',\n",
              "                                                                               Pipeline(steps=[('SimpleImputer_ohe',\n",
              "                                                                                                SimpleImputer(strategy='most_frequent')),\n",
              "                                                                                               ('SimpleImputer_2',\n",
              "                                                                                                SimpleImputer(missing_values=' ',\n",
              "                                                                                                              strategy='most_frequent')),\n",
              "                                                                                               ('ohe',\n",
              "                                                                                                OneHotEncoder(drop='first'))]),\n",
              "                                                                               ['dept',\n",
              "                                                                                'last_year_promo',\n",
              "                                                                                'last_...\n",
              "                                                           'newton-cholesky',\n",
              "                                                           'sag', 'saga'],\n",
              "                                         'preprocessor__num': [StandardScaler(),\n",
              "                                                               MinMaxScaler(),\n",
              "                                                               RobustScaler(),\n",
              "                                                               'passthrough']},\n",
              "                                        {'model': [SVC(probability=True,\n",
              "                                                       random_state=52)],\n",
              "                                         'model__degree': range(1, 4),\n",
              "                                         'model__kernel': ['poly', 'rbf',\n",
              "                                                           'sigmoid',\n",
              "                                                           'precomputed'],\n",
              "                                         'preprocessor__num': [StandardScaler(),\n",
              "                                                               MinMaxScaler(),\n",
              "                                                               RobustScaler(),\n",
              "                                                               'passthrough']}],\n",
              "                   random_state=52, scoring='roc_auc')"
            ]
          },
          "execution_count": 63,
          "metadata": {},
          "output_type": "execute_result"
        }
      ],
      "source": [
        "randomized_search.fit(X_train, y_train)"
      ]
    },
    {
      "cell_type": "code",
      "execution_count": null,
      "metadata": {
        "colab": {
          "base_uri": "https://localhost:8080/"
        },
        "id": "ZBkB3m7yFPfb",
        "outputId": "a498f126-d76a-4fa2-b493-e953107f4666",
        "pycharm": {
          "name": "#%%\n"
        }
      },
      "outputs": [
        {
          "data": {
            "text/plain": [
              "0.9052357749551561"
            ]
          },
          "execution_count": 64,
          "metadata": {},
          "output_type": "execute_result"
        }
      ],
      "source": [
        "clf = randomized_search.best_estimator_\n",
        "randomized_search.best_score_"
      ]
    },
    {
      "cell_type": "code",
      "execution_count": null,
      "metadata": {
        "colab": {
          "base_uri": "https://localhost:8080/",
          "height": 260
        },
        "id": "Mmn4DV5cMYH_",
        "outputId": "dc870d49-9743-4520-d68c-0c94f9fd08a3",
        "pycharm": {
          "name": "#%%\n"
        }
      },
      "outputs": [
        {
          "data": {
            "text/plain": [
              "Pipeline(steps=[('preprocessor',\n",
              "                 ColumnTransformer(remainder='passthrough',\n",
              "                                   transformers=[('ohe',\n",
              "                                                  Pipeline(steps=[('SimpleImputer_ohe',\n",
              "                                                                   SimpleImputer(strategy='most_frequent')),\n",
              "                                                                  ('SimpleImputer_2',\n",
              "                                                                   SimpleImputer(missing_values=' ',\n",
              "                                                                                 strategy='most_frequent')),\n",
              "                                                                  ('ohe',\n",
              "                                                                   OneHotEncoder(drop='first'))]),\n",
              "                                                  ['dept', 'last_year_promo',\n",
              "                                                   'last_year_violations']),\n",
              "                                                 ('ord',\n",
              "                                                  Pip...\n",
              "                                                                   OrdinalEncoder(handle_unknown='use_encoded_value',\n",
              "                                                                                  unknown_value=nan)),\n",
              "                                                                  ('SimpleImputer_aOE',\n",
              "                                                                   SimpleImputer(strategy='most_frequent'))]),\n",
              "                                                  ['level', 'workload']),\n",
              "                                                 ('num', RobustScaler(),\n",
              "                                                  Index(['employment_years', 'supervisor_evaluation', 'salary',\n",
              "       'job_satisfaction_rate'],\n",
              "      dtype='object'))])),\n",
              "                ('model',\n",
              "                 DecisionTreeClassifier(max_depth=23, min_samples_leaf=22,\n",
              "                                        min_samples_split=15,\n",
              "                                        random_state=52))])"
            ]
          },
          "execution_count": 65,
          "metadata": {},
          "output_type": "execute_result"
        }
      ],
      "source": [
        "clf"
      ]
    },
    {
      "cell_type": "code",
      "execution_count": null,
      "metadata": {
        "colab": {
          "base_uri": "https://localhost:8080/"
        },
        "id": "pMgIvi5uJDKp",
        "outputId": "fbce6605-b346-4d4f-ff1e-4e6f42244a65",
        "pycharm": {
          "name": "#%%\n"
        }
      },
      "outputs": [
        {
          "data": {
            "text/plain": [
              "0.927382976697365"
            ]
          },
          "execution_count": 66,
          "metadata": {},
          "output_type": "execute_result"
        }
      ],
      "source": [
        "roc_auc_score(df_test['quit'], clf.predict_proba(df_test.drop('quit', axis = 1))[:,1])"
      ]
    },
    {
      "cell_type": "markdown",
      "metadata": {
        "id": "8ttb3uHTMEX_",
        "pycharm": {
          "name": "#%% md\n"
        }
      },
      "source": [
        "### Вывод\n",
        "\n",
        "**Лучше всего себя показала модель DecisionTreeClassifier, показав ROC-AUC ~0.93.**"
      ]
    },
    {
      "cell_type": "markdown",
      "metadata": {
        "id": "mqcp2VR-MwgK",
        "pycharm": {
          "name": "#%% md\n"
        }
      },
      "source": [
        "# Общий вывод\n",
        "\n",
        "## В процессе работы над проектом были выполнены следующие задачи:\n",
        "\n",
        "1. **Предсказан уровень удовлетворённости сотрудников(модель регрессии)**\n",
        "\n",
        "2. **Предсказано увольнение сотрудника из компании(модель классификации)**\n",
        "\n",
        "## Проект состоял из следющих этапов для каждой задачи:\n",
        "\n",
        "1. **Загрузка данных**\n",
        "2. **Предобработка данных**\n",
        "3. **ИАД**\n",
        "4. **КАД**\n",
        "5. **Подготовка данных**\n",
        "6. **Обучение модели**\n",
        "\n",
        "## Выводы и предложения:\n",
        "\n",
        "1. **Портрет увольняющегося сотрудника**: Junior/Middle специалист, имеющий амбиции карьерного роста, однако не получающий достаточно нагрузки, и, как следствие, повышение.\n",
        "2.  **доля увольнений от 464 сотрудников hr = 25.0%, всего уволилось 464**\n",
        "\n",
        "    **доля увольнений от 582 сотрудников marketing = 28.0%, всего уволилось 582**\n",
        "    \n",
        "    **доля увольнений от 588 сотрудников purchasing = 28.2%, всего уволилось 588**\n",
        "    \n",
        "    **доля увольнений от 1438 сотрудников sales = 28.3%, всего уволилось 1438**\n",
        "    \n",
        "    **доля увольнений от 928 сотрудников technology = 29.7%, всего уволилось 928**\n",
        "\n",
        "\n",
        "3. Система оценки удовлетворённости работает: видна явная связь между уходом сотрудника из компании и низкой удовлетворённостью"
      ]
    }
  ],
  "metadata": {
    "ExecuteTimeLog": [
      {
        "duration": 480,
        "start_time": "2024-02-27T21:21:13.290Z"
      },
      {
        "duration": 0,
        "start_time": "2024-02-27T21:21:13.772Z"
      },
      {
        "duration": 0,
        "start_time": "2024-02-27T21:21:13.774Z"
      },
      {
        "duration": 0,
        "start_time": "2024-02-27T21:21:13.775Z"
      },
      {
        "duration": 0,
        "start_time": "2024-02-27T21:21:13.776Z"
      },
      {
        "duration": 0,
        "start_time": "2024-02-27T21:21:13.778Z"
      },
      {
        "duration": 0,
        "start_time": "2024-02-27T21:21:13.780Z"
      },
      {
        "duration": 0,
        "start_time": "2024-02-27T21:21:13.781Z"
      },
      {
        "duration": 0,
        "start_time": "2024-02-27T21:21:13.782Z"
      },
      {
        "duration": 0,
        "start_time": "2024-02-27T21:21:13.783Z"
      },
      {
        "duration": 0,
        "start_time": "2024-02-27T21:21:13.784Z"
      },
      {
        "duration": 0,
        "start_time": "2024-02-27T21:21:13.785Z"
      },
      {
        "duration": 0,
        "start_time": "2024-02-27T21:21:13.786Z"
      },
      {
        "duration": 0,
        "start_time": "2024-02-27T21:21:13.788Z"
      },
      {
        "duration": 0,
        "start_time": "2024-02-27T21:21:13.788Z"
      },
      {
        "duration": 0,
        "start_time": "2024-02-27T21:21:13.824Z"
      },
      {
        "duration": 0,
        "start_time": "2024-02-27T21:21:13.825Z"
      },
      {
        "duration": 0,
        "start_time": "2024-02-27T21:21:13.826Z"
      },
      {
        "duration": 0,
        "start_time": "2024-02-27T21:21:13.827Z"
      },
      {
        "duration": 0,
        "start_time": "2024-02-27T21:21:13.828Z"
      },
      {
        "duration": 0,
        "start_time": "2024-02-27T21:21:13.830Z"
      },
      {
        "duration": 0,
        "start_time": "2024-02-27T21:21:13.831Z"
      },
      {
        "duration": 0,
        "start_time": "2024-02-27T21:21:13.832Z"
      },
      {
        "duration": 0,
        "start_time": "2024-02-27T21:21:13.833Z"
      },
      {
        "duration": 0,
        "start_time": "2024-02-27T21:21:13.834Z"
      },
      {
        "duration": 0,
        "start_time": "2024-02-27T21:21:13.834Z"
      },
      {
        "duration": 0,
        "start_time": "2024-02-27T21:21:13.835Z"
      },
      {
        "duration": 0,
        "start_time": "2024-02-27T21:21:13.836Z"
      },
      {
        "duration": 0,
        "start_time": "2024-02-27T21:21:13.837Z"
      },
      {
        "duration": 0,
        "start_time": "2024-02-27T21:21:13.838Z"
      },
      {
        "duration": 4,
        "start_time": "2024-02-29T07:02:16.433Z"
      },
      {
        "duration": 4600,
        "start_time": "2024-02-29T07:02:16.439Z"
      },
      {
        "duration": 0,
        "start_time": "2024-02-29T07:02:21.045Z"
      },
      {
        "duration": 0,
        "start_time": "2024-02-29T07:02:21.047Z"
      },
      {
        "duration": 0,
        "start_time": "2024-02-29T07:02:21.048Z"
      },
      {
        "duration": 0,
        "start_time": "2024-02-29T07:02:21.049Z"
      },
      {
        "duration": 0,
        "start_time": "2024-02-29T07:02:21.051Z"
      },
      {
        "duration": 0,
        "start_time": "2024-02-29T07:02:21.052Z"
      },
      {
        "duration": 0,
        "start_time": "2024-02-29T07:02:21.054Z"
      },
      {
        "duration": 0,
        "start_time": "2024-02-29T07:02:21.132Z"
      },
      {
        "duration": 0,
        "start_time": "2024-02-29T07:02:21.134Z"
      },
      {
        "duration": 1,
        "start_time": "2024-02-29T07:02:21.135Z"
      },
      {
        "duration": 0,
        "start_time": "2024-02-29T07:02:21.137Z"
      },
      {
        "duration": 0,
        "start_time": "2024-02-29T07:02:21.139Z"
      },
      {
        "duration": 0,
        "start_time": "2024-02-29T07:02:21.140Z"
      },
      {
        "duration": 0,
        "start_time": "2024-02-29T07:02:21.141Z"
      },
      {
        "duration": 0,
        "start_time": "2024-02-29T07:02:21.143Z"
      },
      {
        "duration": 0,
        "start_time": "2024-02-29T07:02:21.144Z"
      },
      {
        "duration": 0,
        "start_time": "2024-02-29T07:02:21.146Z"
      },
      {
        "duration": 0,
        "start_time": "2024-02-29T07:02:21.147Z"
      },
      {
        "duration": 0,
        "start_time": "2024-02-29T07:02:21.149Z"
      },
      {
        "duration": 0,
        "start_time": "2024-02-29T07:02:21.151Z"
      },
      {
        "duration": 0,
        "start_time": "2024-02-29T07:02:21.232Z"
      },
      {
        "duration": 0,
        "start_time": "2024-02-29T07:02:21.234Z"
      },
      {
        "duration": 0,
        "start_time": "2024-02-29T07:02:21.235Z"
      },
      {
        "duration": 0,
        "start_time": "2024-02-29T07:02:21.237Z"
      },
      {
        "duration": 0,
        "start_time": "2024-02-29T07:02:21.239Z"
      },
      {
        "duration": 1,
        "start_time": "2024-02-29T07:02:21.240Z"
      },
      {
        "duration": 0,
        "start_time": "2024-02-29T07:02:21.242Z"
      },
      {
        "duration": 0,
        "start_time": "2024-02-29T07:02:21.243Z"
      },
      {
        "duration": 0,
        "start_time": "2024-02-29T07:02:21.245Z"
      },
      {
        "duration": 0,
        "start_time": "2024-02-29T07:02:21.246Z"
      },
      {
        "duration": 0,
        "start_time": "2024-02-29T07:02:21.248Z"
      },
      {
        "duration": 0,
        "start_time": "2024-02-29T07:02:21.249Z"
      },
      {
        "duration": 0,
        "start_time": "2024-02-29T07:02:21.251Z"
      },
      {
        "duration": 0,
        "start_time": "2024-02-29T07:02:21.252Z"
      },
      {
        "duration": 1,
        "start_time": "2024-02-29T07:02:21.333Z"
      },
      {
        "duration": 0,
        "start_time": "2024-02-29T07:02:21.335Z"
      },
      {
        "duration": 0,
        "start_time": "2024-02-29T07:02:21.337Z"
      },
      {
        "duration": 0,
        "start_time": "2024-02-29T07:02:21.338Z"
      },
      {
        "duration": 0,
        "start_time": "2024-02-29T07:02:21.339Z"
      },
      {
        "duration": 0,
        "start_time": "2024-02-29T07:02:21.341Z"
      },
      {
        "duration": 0,
        "start_time": "2024-02-29T07:02:21.342Z"
      },
      {
        "duration": 0,
        "start_time": "2024-02-29T07:02:21.343Z"
      },
      {
        "duration": 0,
        "start_time": "2024-02-29T07:02:21.345Z"
      },
      {
        "duration": 0,
        "start_time": "2024-02-29T07:02:21.346Z"
      },
      {
        "duration": 0,
        "start_time": "2024-02-29T07:02:21.348Z"
      },
      {
        "duration": 0,
        "start_time": "2024-02-29T07:02:21.349Z"
      },
      {
        "duration": 0,
        "start_time": "2024-02-29T07:02:21.351Z"
      },
      {
        "duration": 0,
        "start_time": "2024-02-29T07:02:21.352Z"
      },
      {
        "duration": 0,
        "start_time": "2024-02-29T07:02:21.438Z"
      },
      {
        "duration": 0,
        "start_time": "2024-02-29T07:02:21.440Z"
      },
      {
        "duration": 0,
        "start_time": "2024-02-29T07:02:21.441Z"
      },
      {
        "duration": 0,
        "start_time": "2024-02-29T07:02:21.442Z"
      },
      {
        "duration": 0,
        "start_time": "2024-02-29T07:02:21.443Z"
      },
      {
        "duration": 0,
        "start_time": "2024-02-29T07:02:21.445Z"
      },
      {
        "duration": 0,
        "start_time": "2024-02-29T07:02:21.446Z"
      },
      {
        "duration": 0,
        "start_time": "2024-02-29T07:02:21.448Z"
      },
      {
        "duration": 0,
        "start_time": "2024-02-29T07:02:21.449Z"
      },
      {
        "duration": 0,
        "start_time": "2024-02-29T07:02:21.450Z"
      },
      {
        "duration": 0,
        "start_time": "2024-02-29T07:02:21.452Z"
      },
      {
        "duration": 3,
        "start_time": "2024-02-29T07:04:37.551Z"
      },
      {
        "duration": 3802,
        "start_time": "2024-02-29T07:04:37.555Z"
      },
      {
        "duration": 1,
        "start_time": "2024-02-29T07:04:41.360Z"
      },
      {
        "duration": 0,
        "start_time": "2024-02-29T07:04:41.361Z"
      },
      {
        "duration": 0,
        "start_time": "2024-02-29T07:04:41.362Z"
      },
      {
        "duration": 0,
        "start_time": "2024-02-29T07:04:41.363Z"
      },
      {
        "duration": 0,
        "start_time": "2024-02-29T07:04:41.434Z"
      },
      {
        "duration": 0,
        "start_time": "2024-02-29T07:04:41.436Z"
      },
      {
        "duration": 0,
        "start_time": "2024-02-29T07:04:41.437Z"
      },
      {
        "duration": 0,
        "start_time": "2024-02-29T07:04:41.438Z"
      },
      {
        "duration": 0,
        "start_time": "2024-02-29T07:04:41.439Z"
      },
      {
        "duration": 0,
        "start_time": "2024-02-29T07:04:41.441Z"
      },
      {
        "duration": 0,
        "start_time": "2024-02-29T07:04:41.442Z"
      },
      {
        "duration": 0,
        "start_time": "2024-02-29T07:04:41.443Z"
      },
      {
        "duration": 0,
        "start_time": "2024-02-29T07:04:41.444Z"
      },
      {
        "duration": 0,
        "start_time": "2024-02-29T07:04:41.446Z"
      },
      {
        "duration": 0,
        "start_time": "2024-02-29T07:04:41.447Z"
      },
      {
        "duration": 0,
        "start_time": "2024-02-29T07:04:41.448Z"
      },
      {
        "duration": 0,
        "start_time": "2024-02-29T07:04:41.450Z"
      },
      {
        "duration": 0,
        "start_time": "2024-02-29T07:04:41.451Z"
      },
      {
        "duration": 0,
        "start_time": "2024-02-29T07:04:41.452Z"
      },
      {
        "duration": 0,
        "start_time": "2024-02-29T07:04:41.534Z"
      },
      {
        "duration": 0,
        "start_time": "2024-02-29T07:04:41.535Z"
      },
      {
        "duration": 0,
        "start_time": "2024-02-29T07:04:41.536Z"
      },
      {
        "duration": 0,
        "start_time": "2024-02-29T07:04:41.537Z"
      },
      {
        "duration": 0,
        "start_time": "2024-02-29T07:04:41.539Z"
      },
      {
        "duration": 0,
        "start_time": "2024-02-29T07:04:41.540Z"
      },
      {
        "duration": 0,
        "start_time": "2024-02-29T07:04:41.541Z"
      },
      {
        "duration": 0,
        "start_time": "2024-02-29T07:04:41.542Z"
      },
      {
        "duration": 0,
        "start_time": "2024-02-29T07:04:41.544Z"
      },
      {
        "duration": 0,
        "start_time": "2024-02-29T07:04:41.545Z"
      },
      {
        "duration": 0,
        "start_time": "2024-02-29T07:04:41.547Z"
      },
      {
        "duration": 0,
        "start_time": "2024-02-29T07:04:41.548Z"
      },
      {
        "duration": 1,
        "start_time": "2024-02-29T07:04:41.549Z"
      },
      {
        "duration": 0,
        "start_time": "2024-02-29T07:04:41.551Z"
      },
      {
        "duration": 0,
        "start_time": "2024-02-29T07:04:41.553Z"
      },
      {
        "duration": 0,
        "start_time": "2024-02-29T07:04:41.634Z"
      },
      {
        "duration": 0,
        "start_time": "2024-02-29T07:04:41.635Z"
      },
      {
        "duration": 0,
        "start_time": "2024-02-29T07:04:41.636Z"
      },
      {
        "duration": 0,
        "start_time": "2024-02-29T07:04:41.637Z"
      },
      {
        "duration": 0,
        "start_time": "2024-02-29T07:04:41.639Z"
      },
      {
        "duration": 0,
        "start_time": "2024-02-29T07:04:41.640Z"
      },
      {
        "duration": 0,
        "start_time": "2024-02-29T07:04:41.642Z"
      },
      {
        "duration": 0,
        "start_time": "2024-02-29T07:04:41.643Z"
      },
      {
        "duration": 0,
        "start_time": "2024-02-29T07:04:41.645Z"
      },
      {
        "duration": 0,
        "start_time": "2024-02-29T07:04:41.646Z"
      },
      {
        "duration": 0,
        "start_time": "2024-02-29T07:04:41.648Z"
      },
      {
        "duration": 0,
        "start_time": "2024-02-29T07:04:41.649Z"
      },
      {
        "duration": 0,
        "start_time": "2024-02-29T07:04:41.651Z"
      },
      {
        "duration": 0,
        "start_time": "2024-02-29T07:04:41.652Z"
      },
      {
        "duration": 0,
        "start_time": "2024-02-29T07:04:41.733Z"
      },
      {
        "duration": 0,
        "start_time": "2024-02-29T07:04:41.734Z"
      },
      {
        "duration": 0,
        "start_time": "2024-02-29T07:04:41.735Z"
      },
      {
        "duration": 0,
        "start_time": "2024-02-29T07:04:41.737Z"
      },
      {
        "duration": 0,
        "start_time": "2024-02-29T07:04:41.737Z"
      },
      {
        "duration": 0,
        "start_time": "2024-02-29T07:04:41.739Z"
      },
      {
        "duration": 0,
        "start_time": "2024-02-29T07:04:41.740Z"
      },
      {
        "duration": 0,
        "start_time": "2024-02-29T07:04:41.741Z"
      },
      {
        "duration": 0,
        "start_time": "2024-02-29T07:04:41.743Z"
      },
      {
        "duration": 0,
        "start_time": "2024-02-29T07:04:41.744Z"
      },
      {
        "duration": 0,
        "start_time": "2024-02-29T07:04:41.745Z"
      }
    ],
    "colab": {
      "provenance": [],
      "toc_visible": true
    },
    "kernelspec": {
      "display_name": "Python 3 (ipykernel)",
      "language": "python",
      "name": "python3"
    },
    "language_info": {
      "codemirror_mode": {
        "name": "ipython",
        "version": 3
      },
      "file_extension": ".py",
      "mimetype": "text/x-python",
      "name": "python",
      "nbconvert_exporter": "python",
      "pygments_lexer": "ipython3",
      "version": "3.9.5"
    },
    "toc": {
      "base_numbering": 1,
      "nav_menu": {},
      "number_sections": true,
      "sideBar": true,
      "skip_h1_title": true,
      "title_cell": "Table of Contents",
      "title_sidebar": "Contents",
      "toc_cell": false,
      "toc_position": {},
      "toc_section_display": true,
      "toc_window_display": true
    }
  },
  "nbformat": 4,
  "nbformat_minor": 0
}